{
  "nbformat": 4,
  "nbformat_minor": 0,
  "metadata": {
    "colab": {
      "name": "Movie-Recommender-System-Code",
      "provenance": [],
      "collapsed_sections": []
    },
    "kernelspec": {
      "name": "python3",
      "display_name": "Python 3"
    }
  },
  "cells": [
    {
      "cell_type": "code",
      "metadata": {
        "id": "HzX4UGdTRMzo",
        "outputId": "59399b38-4cb3-45d5-dd4e-db5b54a504e6",
        "colab": {
          "base_uri": "https://localhost:8080/",
          "height": 105
        }
      },
      "source": [
        "'''Note : Run this code cell only once for a project\n",
        "\n",
        "%cd \"/content/drive/My Drive/ML-DL-NLP-Projects/Movie-Recommender-System\"\n",
        "\n",
        "#If you have kaggle.json file inside your above path then run below commands\n",
        "#else: add the kaggle.json file in the above path and then move ahead.\n",
        "\n",
        "!mkdir -p /root/.kaggle \n",
        "!mv kaggle.json \"/content/drive/My Drive/ML-DL-NLP-Projects/Movie-Recommender-System\"\n",
        "!chmod 600 /root/.kaggle/kaggle.json\n",
        "\n",
        "#Note : Above lines of code are common for any type of project.\n",
        "#Now you need \"API Command of kaggle dataset\" for that go to kaggle and get the API COmmand for that dataset\n",
        "#And run it below. Like this...\n",
        "\n",
        "!kaggle datasets download -d rounakbanik/the-movies-dataset\n",
        "!unzip -q the-movies-dataset.zip \n",
        "\n",
        "'''\n"
      ],
      "execution_count": null,
      "outputs": [
        {
          "output_type": "execute_result",
          "data": {
            "application/vnd.google.colaboratory.intrinsic+json": {
              "type": "string"
            },
            "text/plain": [
              "'Note : Run this code cell only once for a project\\n\\n%cd \"/content/drive/My Drive/ML-DL-NLP-Projects/Movie-Recommender-System\"\\n\\n#If you have kaggle.json file inside your above path then run below commands\\n#else: add the kaggle.json file in the above path and then move ahead.\\n\\n!mkdir -p /root/.kaggle \\n!mv kaggle.json \"/content/drive/My Drive/ML-DL-NLP-Projects/Movie-Recommender-System\"\\n!chmod 600 /root/.kaggle/kaggle.json\\n\\n#Note : Above lines of code are common for any type of project.\\n#Now you need \"API Command of kaggle dataset\" for that go to kaggle and get the API COmmand for that dataset\\n#And run it below. Like this...\\n\\n!kaggle datasets download -d rounakbanik/the-movies-dataset\\n!unzip -q the-movies-dataset.zip \\n\\n'"
            ]
          },
          "metadata": {
            "tags": []
          },
          "execution_count": 1
        }
      ]
    },
    {
      "cell_type": "code",
      "metadata": {
        "id": "oBlirivYcOq5",
        "outputId": "7934a8ab-4486-4323-faad-25d9ac7f9988",
        "colab": {
          "base_uri": "https://localhost:8080/",
          "height": 35
        }
      },
      "source": [
        "%cd \"/content/drive/My Drive/ML-DL-NLP-Projects/Movie-Recommender-System\""
      ],
      "execution_count": null,
      "outputs": [
        {
          "output_type": "stream",
          "text": [
            "/content/drive/My Drive/ML-DL-NLP-Projects/Movie-Recommender-System\n"
          ],
          "name": "stdout"
        }
      ]
    },
    {
      "cell_type": "markdown",
      "metadata": {
        "id": "2aWdUwGsehN6"
      },
      "source": [
        "-----------      Overview Of Dataset          ----------------\n",
        "\n",
        "the-movies-dataset\n",
        "\n",
        "|_______credits.csv\n",
        "\n",
        "|_______keywords.csv\n",
        "\n",
        "|_______links.csv\n",
        "\n",
        "|_______links_small.csv\n",
        "\n",
        "|_______movies_metadata.csv\n",
        "\n",
        "|_______ratings.csv\n",
        "\n",
        "|_______ratings_small.csv"
      ]
    },
    {
      "cell_type": "code",
      "metadata": {
        "id": "g1kUXCbkZ9M1"
      },
      "source": [
        "import pandas as pd\n",
        "import numpy as np\n",
        "import matplotlib.pyplot as plt\n",
        "from functools import reduce"
      ],
      "execution_count": null,
      "outputs": []
    },
    {
      "cell_type": "code",
      "metadata": {
        "id": "LfkWOB-JcCTv"
      },
      "source": [
        "credits = pd.read_csv(\"/content/drive/My Drive/ML-DL-NLP-Projects/Movie-Recommender-System/credits.csv\")"
      ],
      "execution_count": null,
      "outputs": []
    },
    {
      "cell_type": "code",
      "metadata": {
        "id": "dW1p80BEcgt7",
        "outputId": "a787b350-64e2-49e8-e478-3a462d0a7914",
        "colab": {
          "base_uri": "https://localhost:8080/",
          "height": 35
        }
      },
      "source": [
        "credits.shape"
      ],
      "execution_count": null,
      "outputs": [
        {
          "output_type": "execute_result",
          "data": {
            "text/plain": [
              "(45476, 3)"
            ]
          },
          "metadata": {
            "tags": []
          },
          "execution_count": 5
        }
      ]
    },
    {
      "cell_type": "code",
      "metadata": {
        "id": "vuEyG_L7cjo2",
        "outputId": "999448c2-c4cf-46a7-c093-1aa8a0a59469",
        "colab": {
          "base_uri": "https://localhost:8080/",
          "height": 355
        }
      },
      "source": [
        "credits.head(10)"
      ],
      "execution_count": null,
      "outputs": [
        {
          "output_type": "execute_result",
          "data": {
            "text/html": [
              "<div>\n",
              "<style scoped>\n",
              "    .dataframe tbody tr th:only-of-type {\n",
              "        vertical-align: middle;\n",
              "    }\n",
              "\n",
              "    .dataframe tbody tr th {\n",
              "        vertical-align: top;\n",
              "    }\n",
              "\n",
              "    .dataframe thead th {\n",
              "        text-align: right;\n",
              "    }\n",
              "</style>\n",
              "<table border=\"1\" class=\"dataframe\">\n",
              "  <thead>\n",
              "    <tr style=\"text-align: right;\">\n",
              "      <th></th>\n",
              "      <th>cast</th>\n",
              "      <th>crew</th>\n",
              "      <th>id</th>\n",
              "    </tr>\n",
              "  </thead>\n",
              "  <tbody>\n",
              "    <tr>\n",
              "      <th>0</th>\n",
              "      <td>[{'cast_id': 14, 'character': 'Woody (voice)',...</td>\n",
              "      <td>[{'credit_id': '52fe4284c3a36847f8024f49', 'de...</td>\n",
              "      <td>862</td>\n",
              "    </tr>\n",
              "    <tr>\n",
              "      <th>1</th>\n",
              "      <td>[{'cast_id': 1, 'character': 'Alan Parrish', '...</td>\n",
              "      <td>[{'credit_id': '52fe44bfc3a36847f80a7cd1', 'de...</td>\n",
              "      <td>8844</td>\n",
              "    </tr>\n",
              "    <tr>\n",
              "      <th>2</th>\n",
              "      <td>[{'cast_id': 2, 'character': 'Max Goldman', 'c...</td>\n",
              "      <td>[{'credit_id': '52fe466a9251416c75077a89', 'de...</td>\n",
              "      <td>15602</td>\n",
              "    </tr>\n",
              "    <tr>\n",
              "      <th>3</th>\n",
              "      <td>[{'cast_id': 1, 'character': \"Savannah 'Vannah...</td>\n",
              "      <td>[{'credit_id': '52fe44779251416c91011acb', 'de...</td>\n",
              "      <td>31357</td>\n",
              "    </tr>\n",
              "    <tr>\n",
              "      <th>4</th>\n",
              "      <td>[{'cast_id': 1, 'character': 'George Banks', '...</td>\n",
              "      <td>[{'credit_id': '52fe44959251416c75039ed7', 'de...</td>\n",
              "      <td>11862</td>\n",
              "    </tr>\n",
              "    <tr>\n",
              "      <th>5</th>\n",
              "      <td>[{'cast_id': 25, 'character': 'Lt. Vincent Han...</td>\n",
              "      <td>[{'credit_id': '52fe4292c3a36847f802916d', 'de...</td>\n",
              "      <td>949</td>\n",
              "    </tr>\n",
              "    <tr>\n",
              "      <th>6</th>\n",
              "      <td>[{'cast_id': 1, 'character': 'Linus Larrabee',...</td>\n",
              "      <td>[{'credit_id': '52fe44959251416c75039da9', 'de...</td>\n",
              "      <td>11860</td>\n",
              "    </tr>\n",
              "    <tr>\n",
              "      <th>7</th>\n",
              "      <td>[{'cast_id': 2, 'character': 'Tom Sawyer', 'cr...</td>\n",
              "      <td>[{'credit_id': '52fe46bdc3a36847f810f797', 'de...</td>\n",
              "      <td>45325</td>\n",
              "    </tr>\n",
              "    <tr>\n",
              "      <th>8</th>\n",
              "      <td>[{'cast_id': 1, 'character': 'Darren Francis T...</td>\n",
              "      <td>[{'credit_id': '52fe44dbc3a36847f80ae0f1', 'de...</td>\n",
              "      <td>9091</td>\n",
              "    </tr>\n",
              "    <tr>\n",
              "      <th>9</th>\n",
              "      <td>[{'cast_id': 1, 'character': 'James Bond', 'cr...</td>\n",
              "      <td>[{'credit_id': '52fe426ec3a36847f801e14b', 'de...</td>\n",
              "      <td>710</td>\n",
              "    </tr>\n",
              "  </tbody>\n",
              "</table>\n",
              "</div>"
            ],
            "text/plain": [
              "                                                cast  ...     id\n",
              "0  [{'cast_id': 14, 'character': 'Woody (voice)',...  ...    862\n",
              "1  [{'cast_id': 1, 'character': 'Alan Parrish', '...  ...   8844\n",
              "2  [{'cast_id': 2, 'character': 'Max Goldman', 'c...  ...  15602\n",
              "3  [{'cast_id': 1, 'character': \"Savannah 'Vannah...  ...  31357\n",
              "4  [{'cast_id': 1, 'character': 'George Banks', '...  ...  11862\n",
              "5  [{'cast_id': 25, 'character': 'Lt. Vincent Han...  ...    949\n",
              "6  [{'cast_id': 1, 'character': 'Linus Larrabee',...  ...  11860\n",
              "7  [{'cast_id': 2, 'character': 'Tom Sawyer', 'cr...  ...  45325\n",
              "8  [{'cast_id': 1, 'character': 'Darren Francis T...  ...   9091\n",
              "9  [{'cast_id': 1, 'character': 'James Bond', 'cr...  ...    710\n",
              "\n",
              "[10 rows x 3 columns]"
            ]
          },
          "metadata": {
            "tags": []
          },
          "execution_count": 6
        }
      ]
    },
    {
      "cell_type": "code",
      "metadata": {
        "id": "BeqC9mnzjM6h",
        "outputId": "b5a0c9fd-105a-49d6-a12b-09f54ee3e8e4",
        "colab": {
          "base_uri": "https://localhost:8080/",
          "height": 52
        }
      },
      "source": [
        "credits[\"crew\"][:1]"
      ],
      "execution_count": null,
      "outputs": [
        {
          "output_type": "execute_result",
          "data": {
            "text/plain": [
              "0    [{'credit_id': '52fe4284c3a36847f8024f49', 'de...\n",
              "Name: crew, dtype: object"
            ]
          },
          "metadata": {
            "tags": []
          },
          "execution_count": 7
        }
      ]
    },
    {
      "cell_type": "code",
      "metadata": {
        "id": "k3VdpJwUdGp9",
        "outputId": "0a779c4e-50e4-4adc-fb81-c1696f8751f8",
        "colab": {
          "base_uri": "https://localhost:8080/",
          "height": 52
        }
      },
      "source": [
        "credits[\"cast\"][:1]"
      ],
      "execution_count": null,
      "outputs": [
        {
          "output_type": "execute_result",
          "data": {
            "text/plain": [
              "0    [{'cast_id': 14, 'character': 'Woody (voice)',...\n",
              "Name: cast, dtype: object"
            ]
          },
          "metadata": {
            "tags": []
          },
          "execution_count": 8
        }
      ]
    },
    {
      "cell_type": "code",
      "metadata": {
        "id": "VlKpwZHvdSiQ"
      },
      "source": [
        "keywords = pd.read_csv(\"/content/drive/My Drive/ML-DL-NLP-Projects/Movie-Recommender-System/keywords.csv\")"
      ],
      "execution_count": null,
      "outputs": []
    },
    {
      "cell_type": "code",
      "metadata": {
        "id": "icj6oW8-eEZ_",
        "outputId": "0982e022-43e3-4b8f-bdf4-57c4635f8b79",
        "colab": {
          "base_uri": "https://localhost:8080/",
          "height": 35
        }
      },
      "source": [
        "keywords.shape"
      ],
      "execution_count": null,
      "outputs": [
        {
          "output_type": "execute_result",
          "data": {
            "text/plain": [
              "(46419, 2)"
            ]
          },
          "metadata": {
            "tags": []
          },
          "execution_count": 10
        }
      ]
    },
    {
      "cell_type": "code",
      "metadata": {
        "id": "L-mMRqnNeGUR",
        "outputId": "f302afda-52d5-4882-c915-a43bd139105e",
        "colab": {
          "base_uri": "https://localhost:8080/",
          "height": 355
        }
      },
      "source": [
        "keywords[:10]"
      ],
      "execution_count": null,
      "outputs": [
        {
          "output_type": "execute_result",
          "data": {
            "text/html": [
              "<div>\n",
              "<style scoped>\n",
              "    .dataframe tbody tr th:only-of-type {\n",
              "        vertical-align: middle;\n",
              "    }\n",
              "\n",
              "    .dataframe tbody tr th {\n",
              "        vertical-align: top;\n",
              "    }\n",
              "\n",
              "    .dataframe thead th {\n",
              "        text-align: right;\n",
              "    }\n",
              "</style>\n",
              "<table border=\"1\" class=\"dataframe\">\n",
              "  <thead>\n",
              "    <tr style=\"text-align: right;\">\n",
              "      <th></th>\n",
              "      <th>id</th>\n",
              "      <th>keywords</th>\n",
              "    </tr>\n",
              "  </thead>\n",
              "  <tbody>\n",
              "    <tr>\n",
              "      <th>0</th>\n",
              "      <td>862</td>\n",
              "      <td>[{'id': 931, 'name': 'jealousy'}, {'id': 4290,...</td>\n",
              "    </tr>\n",
              "    <tr>\n",
              "      <th>1</th>\n",
              "      <td>8844</td>\n",
              "      <td>[{'id': 10090, 'name': 'board game'}, {'id': 1...</td>\n",
              "    </tr>\n",
              "    <tr>\n",
              "      <th>2</th>\n",
              "      <td>15602</td>\n",
              "      <td>[{'id': 1495, 'name': 'fishing'}, {'id': 12392...</td>\n",
              "    </tr>\n",
              "    <tr>\n",
              "      <th>3</th>\n",
              "      <td>31357</td>\n",
              "      <td>[{'id': 818, 'name': 'based on novel'}, {'id':...</td>\n",
              "    </tr>\n",
              "    <tr>\n",
              "      <th>4</th>\n",
              "      <td>11862</td>\n",
              "      <td>[{'id': 1009, 'name': 'baby'}, {'id': 1599, 'n...</td>\n",
              "    </tr>\n",
              "    <tr>\n",
              "      <th>5</th>\n",
              "      <td>949</td>\n",
              "      <td>[{'id': 642, 'name': 'robbery'}, {'id': 703, '...</td>\n",
              "    </tr>\n",
              "    <tr>\n",
              "      <th>6</th>\n",
              "      <td>11860</td>\n",
              "      <td>[{'id': 90, 'name': 'paris'}, {'id': 380, 'nam...</td>\n",
              "    </tr>\n",
              "    <tr>\n",
              "      <th>7</th>\n",
              "      <td>45325</td>\n",
              "      <td>[]</td>\n",
              "    </tr>\n",
              "    <tr>\n",
              "      <th>8</th>\n",
              "      <td>9091</td>\n",
              "      <td>[{'id': 949, 'name': 'terrorist'}, {'id': 1562...</td>\n",
              "    </tr>\n",
              "    <tr>\n",
              "      <th>9</th>\n",
              "      <td>710</td>\n",
              "      <td>[{'id': 701, 'name': 'cuba'}, {'id': 769, 'nam...</td>\n",
              "    </tr>\n",
              "  </tbody>\n",
              "</table>\n",
              "</div>"
            ],
            "text/plain": [
              "      id                                           keywords\n",
              "0    862  [{'id': 931, 'name': 'jealousy'}, {'id': 4290,...\n",
              "1   8844  [{'id': 10090, 'name': 'board game'}, {'id': 1...\n",
              "2  15602  [{'id': 1495, 'name': 'fishing'}, {'id': 12392...\n",
              "3  31357  [{'id': 818, 'name': 'based on novel'}, {'id':...\n",
              "4  11862  [{'id': 1009, 'name': 'baby'}, {'id': 1599, 'n...\n",
              "5    949  [{'id': 642, 'name': 'robbery'}, {'id': 703, '...\n",
              "6  11860  [{'id': 90, 'name': 'paris'}, {'id': 380, 'nam...\n",
              "7  45325                                                 []\n",
              "8   9091  [{'id': 949, 'name': 'terrorist'}, {'id': 1562...\n",
              "9    710  [{'id': 701, 'name': 'cuba'}, {'id': 769, 'nam..."
            ]
          },
          "metadata": {
            "tags": []
          },
          "execution_count": 11
        }
      ]
    },
    {
      "cell_type": "code",
      "metadata": {
        "id": "Ap8UYWm_eQeU",
        "outputId": "346cbfd7-3620-4c9e-9022-2561a18ac359",
        "colab": {
          "base_uri": "https://localhost:8080/",
          "height": 52
        }
      },
      "source": [
        "keywords[\"keywords\"][:1]"
      ],
      "execution_count": null,
      "outputs": [
        {
          "output_type": "execute_result",
          "data": {
            "text/plain": [
              "0    [{'id': 931, 'name': 'jealousy'}, {'id': 4290,...\n",
              "Name: keywords, dtype: object"
            ]
          },
          "metadata": {
            "tags": []
          },
          "execution_count": 12
        }
      ]
    },
    {
      "cell_type": "code",
      "metadata": {
        "id": "4PYhrV1eeZis"
      },
      "source": [
        "links = pd.read_csv(\"/content/drive/My Drive/ML-DL-NLP-Projects/Movie-Recommender-System/links.csv\")"
      ],
      "execution_count": null,
      "outputs": []
    },
    {
      "cell_type": "code",
      "metadata": {
        "id": "_AXQ6WFBf0bl",
        "outputId": "446e9597-1a6e-4ad7-8f51-121aaf4aadd9",
        "colab": {
          "base_uri": "https://localhost:8080/",
          "height": 35
        }
      },
      "source": [
        "links.shape"
      ],
      "execution_count": null,
      "outputs": [
        {
          "output_type": "execute_result",
          "data": {
            "text/plain": [
              "(45843, 3)"
            ]
          },
          "metadata": {
            "tags": []
          },
          "execution_count": 14
        }
      ]
    },
    {
      "cell_type": "code",
      "metadata": {
        "id": "o41D8ynLf2DV",
        "outputId": "a9c33d85-3f6a-4473-d900-fbc678db511b",
        "colab": {
          "base_uri": "https://localhost:8080/",
          "height": 355
        }
      },
      "source": [
        "links.head(10)"
      ],
      "execution_count": null,
      "outputs": [
        {
          "output_type": "execute_result",
          "data": {
            "text/html": [
              "<div>\n",
              "<style scoped>\n",
              "    .dataframe tbody tr th:only-of-type {\n",
              "        vertical-align: middle;\n",
              "    }\n",
              "\n",
              "    .dataframe tbody tr th {\n",
              "        vertical-align: top;\n",
              "    }\n",
              "\n",
              "    .dataframe thead th {\n",
              "        text-align: right;\n",
              "    }\n",
              "</style>\n",
              "<table border=\"1\" class=\"dataframe\">\n",
              "  <thead>\n",
              "    <tr style=\"text-align: right;\">\n",
              "      <th></th>\n",
              "      <th>movieId</th>\n",
              "      <th>imdbId</th>\n",
              "      <th>tmdbId</th>\n",
              "    </tr>\n",
              "  </thead>\n",
              "  <tbody>\n",
              "    <tr>\n",
              "      <th>0</th>\n",
              "      <td>1</td>\n",
              "      <td>114709</td>\n",
              "      <td>862.0</td>\n",
              "    </tr>\n",
              "    <tr>\n",
              "      <th>1</th>\n",
              "      <td>2</td>\n",
              "      <td>113497</td>\n",
              "      <td>8844.0</td>\n",
              "    </tr>\n",
              "    <tr>\n",
              "      <th>2</th>\n",
              "      <td>3</td>\n",
              "      <td>113228</td>\n",
              "      <td>15602.0</td>\n",
              "    </tr>\n",
              "    <tr>\n",
              "      <th>3</th>\n",
              "      <td>4</td>\n",
              "      <td>114885</td>\n",
              "      <td>31357.0</td>\n",
              "    </tr>\n",
              "    <tr>\n",
              "      <th>4</th>\n",
              "      <td>5</td>\n",
              "      <td>113041</td>\n",
              "      <td>11862.0</td>\n",
              "    </tr>\n",
              "    <tr>\n",
              "      <th>5</th>\n",
              "      <td>6</td>\n",
              "      <td>113277</td>\n",
              "      <td>949.0</td>\n",
              "    </tr>\n",
              "    <tr>\n",
              "      <th>6</th>\n",
              "      <td>7</td>\n",
              "      <td>114319</td>\n",
              "      <td>11860.0</td>\n",
              "    </tr>\n",
              "    <tr>\n",
              "      <th>7</th>\n",
              "      <td>8</td>\n",
              "      <td>112302</td>\n",
              "      <td>45325.0</td>\n",
              "    </tr>\n",
              "    <tr>\n",
              "      <th>8</th>\n",
              "      <td>9</td>\n",
              "      <td>114576</td>\n",
              "      <td>9091.0</td>\n",
              "    </tr>\n",
              "    <tr>\n",
              "      <th>9</th>\n",
              "      <td>10</td>\n",
              "      <td>113189</td>\n",
              "      <td>710.0</td>\n",
              "    </tr>\n",
              "  </tbody>\n",
              "</table>\n",
              "</div>"
            ],
            "text/plain": [
              "   movieId  imdbId   tmdbId\n",
              "0        1  114709    862.0\n",
              "1        2  113497   8844.0\n",
              "2        3  113228  15602.0\n",
              "3        4  114885  31357.0\n",
              "4        5  113041  11862.0\n",
              "5        6  113277    949.0\n",
              "6        7  114319  11860.0\n",
              "7        8  112302  45325.0\n",
              "8        9  114576   9091.0\n",
              "9       10  113189    710.0"
            ]
          },
          "metadata": {
            "tags": []
          },
          "execution_count": 15
        }
      ]
    },
    {
      "cell_type": "code",
      "metadata": {
        "id": "vyYbR6I8f-d7"
      },
      "source": [
        "links_small = pd.read_csv(\"/content/drive/My Drive/ML-DL-NLP-Projects/Movie-Recommender-System/links_small.csv\")"
      ],
      "execution_count": null,
      "outputs": []
    },
    {
      "cell_type": "code",
      "metadata": {
        "id": "wsDSlJ3jgPtM",
        "outputId": "51b49f0d-f226-4c4e-ebd4-4d4b059d76b1",
        "colab": {
          "base_uri": "https://localhost:8080/",
          "height": 35
        }
      },
      "source": [
        "links_small.shape"
      ],
      "execution_count": null,
      "outputs": [
        {
          "output_type": "execute_result",
          "data": {
            "text/plain": [
              "(9125, 3)"
            ]
          },
          "metadata": {
            "tags": []
          },
          "execution_count": 17
        }
      ]
    },
    {
      "cell_type": "code",
      "metadata": {
        "id": "JYpTJUKhgUZr",
        "outputId": "57d2722a-1954-461d-b8d6-8826d061dec6",
        "colab": {
          "base_uri": "https://localhost:8080/",
          "height": 72
        }
      },
      "source": [
        "movies_metadata = pd.read_csv(\"/content/drive/My Drive/ML-DL-NLP-Projects/Movie-Recommender-System/movies_metadata.csv\")"
      ],
      "execution_count": null,
      "outputs": [
        {
          "output_type": "stream",
          "text": [
            "/usr/local/lib/python3.6/dist-packages/IPython/core/interactiveshell.py:2718: DtypeWarning: Columns (10) have mixed types.Specify dtype option on import or set low_memory=False.\n",
            "  interactivity=interactivity, compiler=compiler, result=result)\n"
          ],
          "name": "stderr"
        }
      ]
    },
    {
      "cell_type": "code",
      "metadata": {
        "id": "1mkn8I2siSQR",
        "outputId": "5dd9afc1-c768-4b5a-f97c-9054ae527126",
        "colab": {
          "base_uri": "https://localhost:8080/",
          "height": 35
        }
      },
      "source": [
        "movies_metadata.shape"
      ],
      "execution_count": null,
      "outputs": [
        {
          "output_type": "execute_result",
          "data": {
            "text/plain": [
              "(45466, 24)"
            ]
          },
          "metadata": {
            "tags": []
          },
          "execution_count": 19
        }
      ]
    },
    {
      "cell_type": "code",
      "metadata": {
        "id": "qsshqPCcjgSd",
        "outputId": "3846f7e0-69af-4e74-c0f0-be0a6b4a58b0",
        "colab": {
          "base_uri": "https://localhost:8080/",
          "height": 139
        }
      },
      "source": [
        "movies_metadata.columns"
      ],
      "execution_count": null,
      "outputs": [
        {
          "output_type": "execute_result",
          "data": {
            "text/plain": [
              "Index(['adult', 'belongs_to_collection', 'budget', 'genres', 'homepage', 'id',\n",
              "       'imdb_id', 'original_language', 'original_title', 'overview',\n",
              "       'popularity', 'poster_path', 'production_companies',\n",
              "       'production_countries', 'release_date', 'revenue', 'runtime',\n",
              "       'spoken_languages', 'status', 'tagline', 'title', 'video',\n",
              "       'vote_average', 'vote_count'],\n",
              "      dtype='object')"
            ]
          },
          "metadata": {
            "tags": []
          },
          "execution_count": 20
        }
      ]
    },
    {
      "cell_type": "code",
      "metadata": {
        "id": "pO17u-z7gmpz",
        "outputId": "22a45cf5-8710-40b3-a4d2-60b4eaa7024f",
        "colab": {
          "base_uri": "https://localhost:8080/",
          "height": 438
        }
      },
      "source": [
        "movies_metadata.head(3)"
      ],
      "execution_count": null,
      "outputs": [
        {
          "output_type": "execute_result",
          "data": {
            "text/html": [
              "<div>\n",
              "<style scoped>\n",
              "    .dataframe tbody tr th:only-of-type {\n",
              "        vertical-align: middle;\n",
              "    }\n",
              "\n",
              "    .dataframe tbody tr th {\n",
              "        vertical-align: top;\n",
              "    }\n",
              "\n",
              "    .dataframe thead th {\n",
              "        text-align: right;\n",
              "    }\n",
              "</style>\n",
              "<table border=\"1\" class=\"dataframe\">\n",
              "  <thead>\n",
              "    <tr style=\"text-align: right;\">\n",
              "      <th></th>\n",
              "      <th>adult</th>\n",
              "      <th>belongs_to_collection</th>\n",
              "      <th>budget</th>\n",
              "      <th>genres</th>\n",
              "      <th>homepage</th>\n",
              "      <th>id</th>\n",
              "      <th>imdb_id</th>\n",
              "      <th>original_language</th>\n",
              "      <th>original_title</th>\n",
              "      <th>overview</th>\n",
              "      <th>popularity</th>\n",
              "      <th>poster_path</th>\n",
              "      <th>production_companies</th>\n",
              "      <th>production_countries</th>\n",
              "      <th>release_date</th>\n",
              "      <th>revenue</th>\n",
              "      <th>runtime</th>\n",
              "      <th>spoken_languages</th>\n",
              "      <th>status</th>\n",
              "      <th>tagline</th>\n",
              "      <th>title</th>\n",
              "      <th>video</th>\n",
              "      <th>vote_average</th>\n",
              "      <th>vote_count</th>\n",
              "    </tr>\n",
              "  </thead>\n",
              "  <tbody>\n",
              "    <tr>\n",
              "      <th>0</th>\n",
              "      <td>False</td>\n",
              "      <td>{'id': 10194, 'name': 'Toy Story Collection', ...</td>\n",
              "      <td>30000000</td>\n",
              "      <td>[{'id': 16, 'name': 'Animation'}, {'id': 35, '...</td>\n",
              "      <td>http://toystory.disney.com/toy-story</td>\n",
              "      <td>862</td>\n",
              "      <td>tt0114709</td>\n",
              "      <td>en</td>\n",
              "      <td>Toy Story</td>\n",
              "      <td>Led by Woody, Andy's toys live happily in his ...</td>\n",
              "      <td>21.9469</td>\n",
              "      <td>/rhIRbceoE9lR4veEXuwCC2wARtG.jpg</td>\n",
              "      <td>[{'name': 'Pixar Animation Studios', 'id': 3}]</td>\n",
              "      <td>[{'iso_3166_1': 'US', 'name': 'United States o...</td>\n",
              "      <td>1995-10-30</td>\n",
              "      <td>373554033.0</td>\n",
              "      <td>81.0</td>\n",
              "      <td>[{'iso_639_1': 'en', 'name': 'English'}]</td>\n",
              "      <td>Released</td>\n",
              "      <td>NaN</td>\n",
              "      <td>Toy Story</td>\n",
              "      <td>False</td>\n",
              "      <td>7.7</td>\n",
              "      <td>5415.0</td>\n",
              "    </tr>\n",
              "    <tr>\n",
              "      <th>1</th>\n",
              "      <td>False</td>\n",
              "      <td>NaN</td>\n",
              "      <td>65000000</td>\n",
              "      <td>[{'id': 12, 'name': 'Adventure'}, {'id': 14, '...</td>\n",
              "      <td>NaN</td>\n",
              "      <td>8844</td>\n",
              "      <td>tt0113497</td>\n",
              "      <td>en</td>\n",
              "      <td>Jumanji</td>\n",
              "      <td>When siblings Judy and Peter discover an encha...</td>\n",
              "      <td>17.0155</td>\n",
              "      <td>/vzmL6fP7aPKNKPRTFnZmiUfciyV.jpg</td>\n",
              "      <td>[{'name': 'TriStar Pictures', 'id': 559}, {'na...</td>\n",
              "      <td>[{'iso_3166_1': 'US', 'name': 'United States o...</td>\n",
              "      <td>1995-12-15</td>\n",
              "      <td>262797249.0</td>\n",
              "      <td>104.0</td>\n",
              "      <td>[{'iso_639_1': 'en', 'name': 'English'}, {'iso...</td>\n",
              "      <td>Released</td>\n",
              "      <td>Roll the dice and unleash the excitement!</td>\n",
              "      <td>Jumanji</td>\n",
              "      <td>False</td>\n",
              "      <td>6.9</td>\n",
              "      <td>2413.0</td>\n",
              "    </tr>\n",
              "    <tr>\n",
              "      <th>2</th>\n",
              "      <td>False</td>\n",
              "      <td>{'id': 119050, 'name': 'Grumpy Old Men Collect...</td>\n",
              "      <td>0</td>\n",
              "      <td>[{'id': 10749, 'name': 'Romance'}, {'id': 35, ...</td>\n",
              "      <td>NaN</td>\n",
              "      <td>15602</td>\n",
              "      <td>tt0113228</td>\n",
              "      <td>en</td>\n",
              "      <td>Grumpier Old Men</td>\n",
              "      <td>A family wedding reignites the ancient feud be...</td>\n",
              "      <td>11.7129</td>\n",
              "      <td>/6ksm1sjKMFLbO7UY2i6G1ju9SML.jpg</td>\n",
              "      <td>[{'name': 'Warner Bros.', 'id': 6194}, {'name'...</td>\n",
              "      <td>[{'iso_3166_1': 'US', 'name': 'United States o...</td>\n",
              "      <td>1995-12-22</td>\n",
              "      <td>0.0</td>\n",
              "      <td>101.0</td>\n",
              "      <td>[{'iso_639_1': 'en', 'name': 'English'}]</td>\n",
              "      <td>Released</td>\n",
              "      <td>Still Yelling. Still Fighting. Still Ready for...</td>\n",
              "      <td>Grumpier Old Men</td>\n",
              "      <td>False</td>\n",
              "      <td>6.5</td>\n",
              "      <td>92.0</td>\n",
              "    </tr>\n",
              "  </tbody>\n",
              "</table>\n",
              "</div>"
            ],
            "text/plain": [
              "   adult  ... vote_count\n",
              "0  False  ...     5415.0\n",
              "1  False  ...     2413.0\n",
              "2  False  ...       92.0\n",
              "\n",
              "[3 rows x 24 columns]"
            ]
          },
          "metadata": {
            "tags": []
          },
          "execution_count": 21
        }
      ]
    },
    {
      "cell_type": "code",
      "metadata": {
        "id": "L8j3dqG9gtIQ"
      },
      "source": [
        "ratings = pd.read_csv(\"/content/drive/My Drive/ML-DL-NLP-Projects/Movie-Recommender-System/ratings.csv\")"
      ],
      "execution_count": null,
      "outputs": []
    },
    {
      "cell_type": "code",
      "metadata": {
        "id": "E0VkF7ujhyev",
        "outputId": "4ab27878-48af-4241-b817-575160682710",
        "colab": {
          "base_uri": "https://localhost:8080/",
          "height": 35
        }
      },
      "source": [
        "ratings.shape"
      ],
      "execution_count": null,
      "outputs": [
        {
          "output_type": "execute_result",
          "data": {
            "text/plain": [
              "(26024289, 4)"
            ]
          },
          "metadata": {
            "tags": []
          },
          "execution_count": 23
        }
      ]
    },
    {
      "cell_type": "code",
      "metadata": {
        "id": "Sj9bMF6_hBmw",
        "outputId": "1f610a9b-c3c1-4c98-8f92-8bfb9d0a15a2",
        "colab": {
          "base_uri": "https://localhost:8080/",
          "height": 355
        }
      },
      "source": [
        "ratings.head(10)"
      ],
      "execution_count": null,
      "outputs": [
        {
          "output_type": "execute_result",
          "data": {
            "text/html": [
              "<div>\n",
              "<style scoped>\n",
              "    .dataframe tbody tr th:only-of-type {\n",
              "        vertical-align: middle;\n",
              "    }\n",
              "\n",
              "    .dataframe tbody tr th {\n",
              "        vertical-align: top;\n",
              "    }\n",
              "\n",
              "    .dataframe thead th {\n",
              "        text-align: right;\n",
              "    }\n",
              "</style>\n",
              "<table border=\"1\" class=\"dataframe\">\n",
              "  <thead>\n",
              "    <tr style=\"text-align: right;\">\n",
              "      <th></th>\n",
              "      <th>userId</th>\n",
              "      <th>movieId</th>\n",
              "      <th>rating</th>\n",
              "      <th>timestamp</th>\n",
              "    </tr>\n",
              "  </thead>\n",
              "  <tbody>\n",
              "    <tr>\n",
              "      <th>0</th>\n",
              "      <td>1</td>\n",
              "      <td>110</td>\n",
              "      <td>1.0</td>\n",
              "      <td>1425941529</td>\n",
              "    </tr>\n",
              "    <tr>\n",
              "      <th>1</th>\n",
              "      <td>1</td>\n",
              "      <td>147</td>\n",
              "      <td>4.5</td>\n",
              "      <td>1425942435</td>\n",
              "    </tr>\n",
              "    <tr>\n",
              "      <th>2</th>\n",
              "      <td>1</td>\n",
              "      <td>858</td>\n",
              "      <td>5.0</td>\n",
              "      <td>1425941523</td>\n",
              "    </tr>\n",
              "    <tr>\n",
              "      <th>3</th>\n",
              "      <td>1</td>\n",
              "      <td>1221</td>\n",
              "      <td>5.0</td>\n",
              "      <td>1425941546</td>\n",
              "    </tr>\n",
              "    <tr>\n",
              "      <th>4</th>\n",
              "      <td>1</td>\n",
              "      <td>1246</td>\n",
              "      <td>5.0</td>\n",
              "      <td>1425941556</td>\n",
              "    </tr>\n",
              "    <tr>\n",
              "      <th>5</th>\n",
              "      <td>1</td>\n",
              "      <td>1968</td>\n",
              "      <td>4.0</td>\n",
              "      <td>1425942148</td>\n",
              "    </tr>\n",
              "    <tr>\n",
              "      <th>6</th>\n",
              "      <td>1</td>\n",
              "      <td>2762</td>\n",
              "      <td>4.5</td>\n",
              "      <td>1425941300</td>\n",
              "    </tr>\n",
              "    <tr>\n",
              "      <th>7</th>\n",
              "      <td>1</td>\n",
              "      <td>2918</td>\n",
              "      <td>5.0</td>\n",
              "      <td>1425941593</td>\n",
              "    </tr>\n",
              "    <tr>\n",
              "      <th>8</th>\n",
              "      <td>1</td>\n",
              "      <td>2959</td>\n",
              "      <td>4.0</td>\n",
              "      <td>1425941601</td>\n",
              "    </tr>\n",
              "    <tr>\n",
              "      <th>9</th>\n",
              "      <td>1</td>\n",
              "      <td>4226</td>\n",
              "      <td>4.0</td>\n",
              "      <td>1425942228</td>\n",
              "    </tr>\n",
              "  </tbody>\n",
              "</table>\n",
              "</div>"
            ],
            "text/plain": [
              "   userId  movieId  rating   timestamp\n",
              "0       1      110     1.0  1425941529\n",
              "1       1      147     4.5  1425942435\n",
              "2       1      858     5.0  1425941523\n",
              "3       1     1221     5.0  1425941546\n",
              "4       1     1246     5.0  1425941556\n",
              "5       1     1968     4.0  1425942148\n",
              "6       1     2762     4.5  1425941300\n",
              "7       1     2918     5.0  1425941593\n",
              "8       1     2959     4.0  1425941601\n",
              "9       1     4226     4.0  1425942228"
            ]
          },
          "metadata": {
            "tags": []
          },
          "execution_count": 24
        }
      ]
    },
    {
      "cell_type": "code",
      "metadata": {
        "id": "HsG8_iBThZTa"
      },
      "source": [
        "ratings_small = pd.read_csv(\"/content/drive/My Drive/ML-DL-NLP-Projects/Movie-Recommender-System/ratings_small.csv\")"
      ],
      "execution_count": null,
      "outputs": []
    },
    {
      "cell_type": "code",
      "metadata": {
        "id": "ROdzW_VGhkId",
        "outputId": "bbc0f39b-1ecd-431f-a020-82943877cfb5",
        "colab": {
          "base_uri": "https://localhost:8080/",
          "height": 35
        }
      },
      "source": [
        "ratings_small.shape"
      ],
      "execution_count": null,
      "outputs": [
        {
          "output_type": "execute_result",
          "data": {
            "text/plain": [
              "(100004, 4)"
            ]
          },
          "metadata": {
            "tags": []
          },
          "execution_count": 26
        }
      ]
    },
    {
      "cell_type": "markdown",
      "metadata": {
        "id": "b5ozOVKxiloe"
      },
      "source": [
        "-----------      Overview Of Dataset          ----------------\n",
        "\n",
        "the-movies-dataset\n",
        "\n",
        "|_______**credits.csv** [ cast, crew, id ]\n",
        "      \n",
        "|_______**keywords.csv** [ id,\tkeywords ]\n",
        "\n",
        "|_______**links.csv**  [\tmovieId, imdbId,\ttmdbId ]\n",
        "\n",
        "|_______**movies_metadata.csv** [ 'adult', 'belongs_to_collection', 'budget', 'genres', 'homepage', 'id',\n",
        "       'imdb_id', 'original_language', 'original_title', 'overview',\n",
        "       'popularity', 'poster_path', 'production_companies',\n",
        "       'production_countries', 'release_date', 'revenue', 'runtime',\n",
        "       'spoken_languages', 'status', 'tagline', 'title', 'video',\n",
        "       'vote_average', 'vote_count' ]\n",
        "\n",
        "|_______**ratings.csv** [ userId,\tmovieId,\trating. timestamp ] "
      ]
    },
    {
      "cell_type": "code",
      "metadata": {
        "id": "sgAXgapkhoP3",
        "outputId": "3d3b916a-2da7-4a04-f9a6-ba8544d1a54e",
        "colab": {
          "base_uri": "https://localhost:8080/",
          "height": 208
        }
      },
      "source": [
        "print(credits.columns)\n",
        "print(keywords.columns)\n",
        "print(links.columns)\n",
        "print(movies_metadata.columns)\n",
        "print(ratings.columns)"
      ],
      "execution_count": null,
      "outputs": [
        {
          "output_type": "stream",
          "text": [
            "Index(['cast', 'crew', 'id'], dtype='object')\n",
            "Index(['id', 'keywords'], dtype='object')\n",
            "Index(['movieId', 'imdbId', 'tmdbId'], dtype='object')\n",
            "Index(['adult', 'belongs_to_collection', 'budget', 'genres', 'homepage', 'id',\n",
            "       'imdb_id', 'original_language', 'original_title', 'overview',\n",
            "       'popularity', 'poster_path', 'production_companies',\n",
            "       'production_countries', 'release_date', 'revenue', 'runtime',\n",
            "       'spoken_languages', 'status', 'tagline', 'title', 'video',\n",
            "       'vote_average', 'vote_count'],\n",
            "      dtype='object')\n",
            "Index(['userId', 'movieId', 'rating', 'timestamp'], dtype='object')\n"
          ],
          "name": "stdout"
        }
      ]
    },
    {
      "cell_type": "code",
      "metadata": {
        "id": "E-BBJQO5jUPs"
      },
      "source": [
        "# ratings innerjoin links on moviesid\n",
        "merge_df = pd.merge(left=ratings,right=links,left_on='movieId',right_on='movieId') "
      ],
      "execution_count": null,
      "outputs": []
    },
    {
      "cell_type": "code",
      "metadata": {
        "id": "ZGTudjEbq-Ip",
        "outputId": "00fb590e-b1a5-4c3b-aff4-756f7db37068",
        "colab": {
          "base_uri": "https://localhost:8080/",
          "height": 415
        }
      },
      "source": [
        "merge_df"
      ],
      "execution_count": null,
      "outputs": [
        {
          "output_type": "execute_result",
          "data": {
            "text/html": [
              "<div>\n",
              "<style scoped>\n",
              "    .dataframe tbody tr th:only-of-type {\n",
              "        vertical-align: middle;\n",
              "    }\n",
              "\n",
              "    .dataframe tbody tr th {\n",
              "        vertical-align: top;\n",
              "    }\n",
              "\n",
              "    .dataframe thead th {\n",
              "        text-align: right;\n",
              "    }\n",
              "</style>\n",
              "<table border=\"1\" class=\"dataframe\">\n",
              "  <thead>\n",
              "    <tr style=\"text-align: right;\">\n",
              "      <th></th>\n",
              "      <th>userId</th>\n",
              "      <th>movieId</th>\n",
              "      <th>rating</th>\n",
              "      <th>timestamp</th>\n",
              "      <th>imdbId</th>\n",
              "      <th>tmdbId</th>\n",
              "    </tr>\n",
              "  </thead>\n",
              "  <tbody>\n",
              "    <tr>\n",
              "      <th>0</th>\n",
              "      <td>1</td>\n",
              "      <td>110</td>\n",
              "      <td>1.0</td>\n",
              "      <td>1425941529</td>\n",
              "      <td>112573</td>\n",
              "      <td>197.0</td>\n",
              "    </tr>\n",
              "    <tr>\n",
              "      <th>1</th>\n",
              "      <td>11</td>\n",
              "      <td>110</td>\n",
              "      <td>3.5</td>\n",
              "      <td>1231676989</td>\n",
              "      <td>112573</td>\n",
              "      <td>197.0</td>\n",
              "    </tr>\n",
              "    <tr>\n",
              "      <th>2</th>\n",
              "      <td>22</td>\n",
              "      <td>110</td>\n",
              "      <td>5.0</td>\n",
              "      <td>1111937009</td>\n",
              "      <td>112573</td>\n",
              "      <td>197.0</td>\n",
              "    </tr>\n",
              "    <tr>\n",
              "      <th>3</th>\n",
              "      <td>24</td>\n",
              "      <td>110</td>\n",
              "      <td>5.0</td>\n",
              "      <td>979870012</td>\n",
              "      <td>112573</td>\n",
              "      <td>197.0</td>\n",
              "    </tr>\n",
              "    <tr>\n",
              "      <th>4</th>\n",
              "      <td>29</td>\n",
              "      <td>110</td>\n",
              "      <td>3.0</td>\n",
              "      <td>1044020005</td>\n",
              "      <td>112573</td>\n",
              "      <td>197.0</td>\n",
              "    </tr>\n",
              "    <tr>\n",
              "      <th>...</th>\n",
              "      <td>...</td>\n",
              "      <td>...</td>\n",
              "      <td>...</td>\n",
              "      <td>...</td>\n",
              "      <td>...</td>\n",
              "      <td>...</td>\n",
              "    </tr>\n",
              "    <tr>\n",
              "      <th>26024284</th>\n",
              "      <td>270887</td>\n",
              "      <td>159050</td>\n",
              "      <td>5.0</td>\n",
              "      <td>1472697413</td>\n",
              "      <td>289390</td>\n",
              "      <td>126076.0</td>\n",
              "    </tr>\n",
              "    <tr>\n",
              "      <th>26024285</th>\n",
              "      <td>270887</td>\n",
              "      <td>159053</td>\n",
              "      <td>5.0</td>\n",
              "      <td>1486961830</td>\n",
              "      <td>487156</td>\n",
              "      <td>56491.0</td>\n",
              "    </tr>\n",
              "    <tr>\n",
              "      <th>26024286</th>\n",
              "      <td>270887</td>\n",
              "      <td>165649</td>\n",
              "      <td>4.0</td>\n",
              "      <td>1479088587</td>\n",
              "      <td>3731196</td>\n",
              "      <td>302042.0</td>\n",
              "    </tr>\n",
              "    <tr>\n",
              "      <th>26024287</th>\n",
              "      <td>270887</td>\n",
              "      <td>171051</td>\n",
              "      <td>4.0</td>\n",
              "      <td>1493084042</td>\n",
              "      <td>176326</td>\n",
              "      <td>23476.0</td>\n",
              "    </tr>\n",
              "    <tr>\n",
              "      <th>26024288</th>\n",
              "      <td>270887</td>\n",
              "      <td>171221</td>\n",
              "      <td>5.0</td>\n",
              "      <td>1493040473</td>\n",
              "      <td>4287348</td>\n",
              "      <td>380754.0</td>\n",
              "    </tr>\n",
              "  </tbody>\n",
              "</table>\n",
              "<p>26024289 rows × 6 columns</p>\n",
              "</div>"
            ],
            "text/plain": [
              "          userId  movieId  rating   timestamp   imdbId    tmdbId\n",
              "0              1      110     1.0  1425941529   112573     197.0\n",
              "1             11      110     3.5  1231676989   112573     197.0\n",
              "2             22      110     5.0  1111937009   112573     197.0\n",
              "3             24      110     5.0   979870012   112573     197.0\n",
              "4             29      110     3.0  1044020005   112573     197.0\n",
              "...          ...      ...     ...         ...      ...       ...\n",
              "26024284  270887   159050     5.0  1472697413   289390  126076.0\n",
              "26024285  270887   159053     5.0  1486961830   487156   56491.0\n",
              "26024286  270887   165649     4.0  1479088587  3731196  302042.0\n",
              "26024287  270887   171051     4.0  1493084042   176326   23476.0\n",
              "26024288  270887   171221     5.0  1493040473  4287348  380754.0\n",
              "\n",
              "[26024289 rows x 6 columns]"
            ]
          },
          "metadata": {
            "tags": []
          },
          "execution_count": 29
        }
      ]
    },
    {
      "cell_type": "code",
      "metadata": {
        "id": "pdRRymkvjqlG"
      },
      "source": [
        "merge_df2 = pd.merge(left=keywords,right=credits,left_on='id',right_on='id')"
      ],
      "execution_count": null,
      "outputs": []
    },
    {
      "cell_type": "code",
      "metadata": {
        "id": "IOOMD47EqE5O",
        "outputId": "506faf75-5958-46ca-c12c-099c86565a99",
        "colab": {
          "base_uri": "https://localhost:8080/",
          "height": 415
        }
      },
      "source": [
        "merge_df2"
      ],
      "execution_count": null,
      "outputs": [
        {
          "output_type": "execute_result",
          "data": {
            "text/html": [
              "<div>\n",
              "<style scoped>\n",
              "    .dataframe tbody tr th:only-of-type {\n",
              "        vertical-align: middle;\n",
              "    }\n",
              "\n",
              "    .dataframe tbody tr th {\n",
              "        vertical-align: top;\n",
              "    }\n",
              "\n",
              "    .dataframe thead th {\n",
              "        text-align: right;\n",
              "    }\n",
              "</style>\n",
              "<table border=\"1\" class=\"dataframe\">\n",
              "  <thead>\n",
              "    <tr style=\"text-align: right;\">\n",
              "      <th></th>\n",
              "      <th>id</th>\n",
              "      <th>keywords</th>\n",
              "      <th>cast</th>\n",
              "      <th>crew</th>\n",
              "    </tr>\n",
              "  </thead>\n",
              "  <tbody>\n",
              "    <tr>\n",
              "      <th>0</th>\n",
              "      <td>862</td>\n",
              "      <td>[{'id': 931, 'name': 'jealousy'}, {'id': 4290,...</td>\n",
              "      <td>[{'cast_id': 14, 'character': 'Woody (voice)',...</td>\n",
              "      <td>[{'credit_id': '52fe4284c3a36847f8024f49', 'de...</td>\n",
              "    </tr>\n",
              "    <tr>\n",
              "      <th>1</th>\n",
              "      <td>8844</td>\n",
              "      <td>[{'id': 10090, 'name': 'board game'}, {'id': 1...</td>\n",
              "      <td>[{'cast_id': 1, 'character': 'Alan Parrish', '...</td>\n",
              "      <td>[{'credit_id': '52fe44bfc3a36847f80a7cd1', 'de...</td>\n",
              "    </tr>\n",
              "    <tr>\n",
              "      <th>2</th>\n",
              "      <td>15602</td>\n",
              "      <td>[{'id': 1495, 'name': 'fishing'}, {'id': 12392...</td>\n",
              "      <td>[{'cast_id': 2, 'character': 'Max Goldman', 'c...</td>\n",
              "      <td>[{'credit_id': '52fe466a9251416c75077a89', 'de...</td>\n",
              "    </tr>\n",
              "    <tr>\n",
              "      <th>3</th>\n",
              "      <td>31357</td>\n",
              "      <td>[{'id': 818, 'name': 'based on novel'}, {'id':...</td>\n",
              "      <td>[{'cast_id': 1, 'character': \"Savannah 'Vannah...</td>\n",
              "      <td>[{'credit_id': '52fe44779251416c91011acb', 'de...</td>\n",
              "    </tr>\n",
              "    <tr>\n",
              "      <th>4</th>\n",
              "      <td>11862</td>\n",
              "      <td>[{'id': 1009, 'name': 'baby'}, {'id': 1599, 'n...</td>\n",
              "      <td>[{'cast_id': 1, 'character': 'George Banks', '...</td>\n",
              "      <td>[{'credit_id': '52fe44959251416c75039ed7', 'de...</td>\n",
              "    </tr>\n",
              "    <tr>\n",
              "      <th>...</th>\n",
              "      <td>...</td>\n",
              "      <td>...</td>\n",
              "      <td>...</td>\n",
              "      <td>...</td>\n",
              "    </tr>\n",
              "    <tr>\n",
              "      <th>46491</th>\n",
              "      <td>439050</td>\n",
              "      <td>[{'id': 10703, 'name': 'tragic love'}]</td>\n",
              "      <td>[{'cast_id': 0, 'character': '', 'credit_id': ...</td>\n",
              "      <td>[{'credit_id': '5894a97d925141426c00818c', 'de...</td>\n",
              "    </tr>\n",
              "    <tr>\n",
              "      <th>46492</th>\n",
              "      <td>111109</td>\n",
              "      <td>[{'id': 2679, 'name': 'artist'}, {'id': 14531,...</td>\n",
              "      <td>[{'cast_id': 1002, 'character': 'Sister Angela...</td>\n",
              "      <td>[{'credit_id': '52fe4af1c3a36847f81e9b15', 'de...</td>\n",
              "    </tr>\n",
              "    <tr>\n",
              "      <th>46493</th>\n",
              "      <td>67758</td>\n",
              "      <td>[]</td>\n",
              "      <td>[{'cast_id': 6, 'character': 'Emily Shaw', 'cr...</td>\n",
              "      <td>[{'credit_id': '52fe4776c3a368484e0c8387', 'de...</td>\n",
              "    </tr>\n",
              "    <tr>\n",
              "      <th>46494</th>\n",
              "      <td>227506</td>\n",
              "      <td>[]</td>\n",
              "      <td>[{'cast_id': 2, 'character': '', 'credit_id': ...</td>\n",
              "      <td>[{'credit_id': '533bccebc3a36844cf0011a7', 'de...</td>\n",
              "    </tr>\n",
              "    <tr>\n",
              "      <th>46495</th>\n",
              "      <td>461257</td>\n",
              "      <td>[]</td>\n",
              "      <td>[]</td>\n",
              "      <td>[{'credit_id': '593e676c92514105b702e68e', 'de...</td>\n",
              "    </tr>\n",
              "  </tbody>\n",
              "</table>\n",
              "<p>46496 rows × 4 columns</p>\n",
              "</div>"
            ],
            "text/plain": [
              "           id  ...                                               crew\n",
              "0         862  ...  [{'credit_id': '52fe4284c3a36847f8024f49', 'de...\n",
              "1        8844  ...  [{'credit_id': '52fe44bfc3a36847f80a7cd1', 'de...\n",
              "2       15602  ...  [{'credit_id': '52fe466a9251416c75077a89', 'de...\n",
              "3       31357  ...  [{'credit_id': '52fe44779251416c91011acb', 'de...\n",
              "4       11862  ...  [{'credit_id': '52fe44959251416c75039ed7', 'de...\n",
              "...       ...  ...                                                ...\n",
              "46491  439050  ...  [{'credit_id': '5894a97d925141426c00818c', 'de...\n",
              "46492  111109  ...  [{'credit_id': '52fe4af1c3a36847f81e9b15', 'de...\n",
              "46493   67758  ...  [{'credit_id': '52fe4776c3a368484e0c8387', 'de...\n",
              "46494  227506  ...  [{'credit_id': '533bccebc3a36844cf0011a7', 'de...\n",
              "46495  461257  ...  [{'credit_id': '593e676c92514105b702e68e', 'de...\n",
              "\n",
              "[46496 rows x 4 columns]"
            ]
          },
          "metadata": {
            "tags": []
          },
          "execution_count": 31
        }
      ]
    },
    {
      "cell_type": "code",
      "metadata": {
        "id": "8JMAmnrGrljA"
      },
      "source": [
        "# copy of original movies_metadata to query columns and access them even if the duplicate is going to be modified for making a combined csv\n",
        "movies_metadata1 = movies_metadata"
      ],
      "execution_count": null,
      "outputs": []
    },
    {
      "cell_type": "code",
      "metadata": {
        "id": "Yq95rHPLugJC"
      },
      "source": [
        "# Now we need to make movies_metadata1 free from non-important feature columns\n",
        "\n",
        "movies_metadata1 = movies_metadata1.drop(columns=['original_title','budget','revenue','overview','homepage','poster_path','production_companies','production_countries','spoken_languages','status','tagline','video'])"
      ],
      "execution_count": null,
      "outputs": []
    },
    {
      "cell_type": "code",
      "metadata": {
        "id": "7pFRawg_14ek",
        "outputId": "03cef7a9-19b0-4de6-9456-197c67c5d729",
        "colab": {
          "base_uri": "https://localhost:8080/",
          "height": 886
        }
      },
      "source": [
        "movies_metadata1"
      ],
      "execution_count": null,
      "outputs": [
        {
          "output_type": "execute_result",
          "data": {
            "text/html": [
              "<div>\n",
              "<style scoped>\n",
              "    .dataframe tbody tr th:only-of-type {\n",
              "        vertical-align: middle;\n",
              "    }\n",
              "\n",
              "    .dataframe tbody tr th {\n",
              "        vertical-align: top;\n",
              "    }\n",
              "\n",
              "    .dataframe thead th {\n",
              "        text-align: right;\n",
              "    }\n",
              "</style>\n",
              "<table border=\"1\" class=\"dataframe\">\n",
              "  <thead>\n",
              "    <tr style=\"text-align: right;\">\n",
              "      <th></th>\n",
              "      <th>adult</th>\n",
              "      <th>belongs_to_collection</th>\n",
              "      <th>genres</th>\n",
              "      <th>id</th>\n",
              "      <th>imdb_id</th>\n",
              "      <th>original_language</th>\n",
              "      <th>popularity</th>\n",
              "      <th>release_date</th>\n",
              "      <th>runtime</th>\n",
              "      <th>title</th>\n",
              "      <th>vote_average</th>\n",
              "      <th>vote_count</th>\n",
              "    </tr>\n",
              "  </thead>\n",
              "  <tbody>\n",
              "    <tr>\n",
              "      <th>0</th>\n",
              "      <td>False</td>\n",
              "      <td>{'id': 10194, 'name': 'Toy Story Collection', ...</td>\n",
              "      <td>[{'id': 16, 'name': 'Animation'}, {'id': 35, '...</td>\n",
              "      <td>862</td>\n",
              "      <td>tt0114709</td>\n",
              "      <td>en</td>\n",
              "      <td>21.9469</td>\n",
              "      <td>1995-10-30</td>\n",
              "      <td>81.0</td>\n",
              "      <td>Toy Story</td>\n",
              "      <td>7.7</td>\n",
              "      <td>5415.0</td>\n",
              "    </tr>\n",
              "    <tr>\n",
              "      <th>1</th>\n",
              "      <td>False</td>\n",
              "      <td>NaN</td>\n",
              "      <td>[{'id': 12, 'name': 'Adventure'}, {'id': 14, '...</td>\n",
              "      <td>8844</td>\n",
              "      <td>tt0113497</td>\n",
              "      <td>en</td>\n",
              "      <td>17.0155</td>\n",
              "      <td>1995-12-15</td>\n",
              "      <td>104.0</td>\n",
              "      <td>Jumanji</td>\n",
              "      <td>6.9</td>\n",
              "      <td>2413.0</td>\n",
              "    </tr>\n",
              "    <tr>\n",
              "      <th>2</th>\n",
              "      <td>False</td>\n",
              "      <td>{'id': 119050, 'name': 'Grumpy Old Men Collect...</td>\n",
              "      <td>[{'id': 10749, 'name': 'Romance'}, {'id': 35, ...</td>\n",
              "      <td>15602</td>\n",
              "      <td>tt0113228</td>\n",
              "      <td>en</td>\n",
              "      <td>11.7129</td>\n",
              "      <td>1995-12-22</td>\n",
              "      <td>101.0</td>\n",
              "      <td>Grumpier Old Men</td>\n",
              "      <td>6.5</td>\n",
              "      <td>92.0</td>\n",
              "    </tr>\n",
              "    <tr>\n",
              "      <th>3</th>\n",
              "      <td>False</td>\n",
              "      <td>NaN</td>\n",
              "      <td>[{'id': 35, 'name': 'Comedy'}, {'id': 18, 'nam...</td>\n",
              "      <td>31357</td>\n",
              "      <td>tt0114885</td>\n",
              "      <td>en</td>\n",
              "      <td>3.85949</td>\n",
              "      <td>1995-12-22</td>\n",
              "      <td>127.0</td>\n",
              "      <td>Waiting to Exhale</td>\n",
              "      <td>6.1</td>\n",
              "      <td>34.0</td>\n",
              "    </tr>\n",
              "    <tr>\n",
              "      <th>4</th>\n",
              "      <td>False</td>\n",
              "      <td>{'id': 96871, 'name': 'Father of the Bride Col...</td>\n",
              "      <td>[{'id': 35, 'name': 'Comedy'}]</td>\n",
              "      <td>11862</td>\n",
              "      <td>tt0113041</td>\n",
              "      <td>en</td>\n",
              "      <td>8.38752</td>\n",
              "      <td>1995-02-10</td>\n",
              "      <td>106.0</td>\n",
              "      <td>Father of the Bride Part II</td>\n",
              "      <td>5.7</td>\n",
              "      <td>173.0</td>\n",
              "    </tr>\n",
              "    <tr>\n",
              "      <th>...</th>\n",
              "      <td>...</td>\n",
              "      <td>...</td>\n",
              "      <td>...</td>\n",
              "      <td>...</td>\n",
              "      <td>...</td>\n",
              "      <td>...</td>\n",
              "      <td>...</td>\n",
              "      <td>...</td>\n",
              "      <td>...</td>\n",
              "      <td>...</td>\n",
              "      <td>...</td>\n",
              "      <td>...</td>\n",
              "    </tr>\n",
              "    <tr>\n",
              "      <th>45461</th>\n",
              "      <td>False</td>\n",
              "      <td>NaN</td>\n",
              "      <td>[{'id': 18, 'name': 'Drama'}, {'id': 10751, 'n...</td>\n",
              "      <td>439050</td>\n",
              "      <td>tt6209470</td>\n",
              "      <td>fa</td>\n",
              "      <td>0.072051</td>\n",
              "      <td>NaN</td>\n",
              "      <td>90.0</td>\n",
              "      <td>Subdue</td>\n",
              "      <td>4.0</td>\n",
              "      <td>1.0</td>\n",
              "    </tr>\n",
              "    <tr>\n",
              "      <th>45462</th>\n",
              "      <td>False</td>\n",
              "      <td>NaN</td>\n",
              "      <td>[{'id': 18, 'name': 'Drama'}]</td>\n",
              "      <td>111109</td>\n",
              "      <td>tt2028550</td>\n",
              "      <td>tl</td>\n",
              "      <td>0.178241</td>\n",
              "      <td>2011-11-17</td>\n",
              "      <td>360.0</td>\n",
              "      <td>Century of Birthing</td>\n",
              "      <td>9.0</td>\n",
              "      <td>3.0</td>\n",
              "    </tr>\n",
              "    <tr>\n",
              "      <th>45463</th>\n",
              "      <td>False</td>\n",
              "      <td>NaN</td>\n",
              "      <td>[{'id': 28, 'name': 'Action'}, {'id': 18, 'nam...</td>\n",
              "      <td>67758</td>\n",
              "      <td>tt0303758</td>\n",
              "      <td>en</td>\n",
              "      <td>0.903007</td>\n",
              "      <td>2003-08-01</td>\n",
              "      <td>90.0</td>\n",
              "      <td>Betrayal</td>\n",
              "      <td>3.8</td>\n",
              "      <td>6.0</td>\n",
              "    </tr>\n",
              "    <tr>\n",
              "      <th>45464</th>\n",
              "      <td>False</td>\n",
              "      <td>NaN</td>\n",
              "      <td>[]</td>\n",
              "      <td>227506</td>\n",
              "      <td>tt0008536</td>\n",
              "      <td>en</td>\n",
              "      <td>0.003503</td>\n",
              "      <td>1917-10-21</td>\n",
              "      <td>87.0</td>\n",
              "      <td>Satan Triumphant</td>\n",
              "      <td>0.0</td>\n",
              "      <td>0.0</td>\n",
              "    </tr>\n",
              "    <tr>\n",
              "      <th>45465</th>\n",
              "      <td>False</td>\n",
              "      <td>NaN</td>\n",
              "      <td>[]</td>\n",
              "      <td>461257</td>\n",
              "      <td>tt6980792</td>\n",
              "      <td>en</td>\n",
              "      <td>0.163015</td>\n",
              "      <td>2017-06-09</td>\n",
              "      <td>75.0</td>\n",
              "      <td>Queerama</td>\n",
              "      <td>0.0</td>\n",
              "      <td>0.0</td>\n",
              "    </tr>\n",
              "  </tbody>\n",
              "</table>\n",
              "<p>45466 rows × 12 columns</p>\n",
              "</div>"
            ],
            "text/plain": [
              "       adult  ... vote_count\n",
              "0      False  ...     5415.0\n",
              "1      False  ...     2413.0\n",
              "2      False  ...       92.0\n",
              "3      False  ...       34.0\n",
              "4      False  ...      173.0\n",
              "...      ...  ...        ...\n",
              "45461  False  ...        1.0\n",
              "45462  False  ...        3.0\n",
              "45463  False  ...        6.0\n",
              "45464  False  ...        0.0\n",
              "45465  False  ...        0.0\n",
              "\n",
              "[45466 rows x 12 columns]"
            ]
          },
          "metadata": {
            "tags": []
          },
          "execution_count": 34
        }
      ]
    },
    {
      "cell_type": "code",
      "metadata": {
        "id": "mHz-LjTx9XTK"
      },
      "source": [
        "merge_df2['id'] = merge_df2['id'].astype('str')"
      ],
      "execution_count": null,
      "outputs": []
    },
    {
      "cell_type": "code",
      "metadata": {
        "id": "rrvU5JCF2K2o"
      },
      "source": [
        "merge_df12 = pd.merge(left=movies_metadata1,right=merge_df2,left_on='id',right_on='id')"
      ],
      "execution_count": null,
      "outputs": []
    },
    {
      "cell_type": "code",
      "metadata": {
        "id": "UzSKL-3g8vKi",
        "outputId": "f7da66ce-3ce3-40d2-fb0f-0b9b1bf473d0",
        "colab": {
          "base_uri": "https://localhost:8080/",
          "height": 1000
        }
      },
      "source": [
        "merge_df12"
      ],
      "execution_count": null,
      "outputs": [
        {
          "output_type": "execute_result",
          "data": {
            "text/html": [
              "<div>\n",
              "<style scoped>\n",
              "    .dataframe tbody tr th:only-of-type {\n",
              "        vertical-align: middle;\n",
              "    }\n",
              "\n",
              "    .dataframe tbody tr th {\n",
              "        vertical-align: top;\n",
              "    }\n",
              "\n",
              "    .dataframe thead th {\n",
              "        text-align: right;\n",
              "    }\n",
              "</style>\n",
              "<table border=\"1\" class=\"dataframe\">\n",
              "  <thead>\n",
              "    <tr style=\"text-align: right;\">\n",
              "      <th></th>\n",
              "      <th>adult</th>\n",
              "      <th>belongs_to_collection</th>\n",
              "      <th>genres</th>\n",
              "      <th>id</th>\n",
              "      <th>imdb_id</th>\n",
              "      <th>original_language</th>\n",
              "      <th>popularity</th>\n",
              "      <th>release_date</th>\n",
              "      <th>runtime</th>\n",
              "      <th>title</th>\n",
              "      <th>vote_average</th>\n",
              "      <th>vote_count</th>\n",
              "      <th>keywords</th>\n",
              "      <th>cast</th>\n",
              "      <th>crew</th>\n",
              "    </tr>\n",
              "  </thead>\n",
              "  <tbody>\n",
              "    <tr>\n",
              "      <th>0</th>\n",
              "      <td>False</td>\n",
              "      <td>{'id': 10194, 'name': 'Toy Story Collection', ...</td>\n",
              "      <td>[{'id': 16, 'name': 'Animation'}, {'id': 35, '...</td>\n",
              "      <td>862</td>\n",
              "      <td>tt0114709</td>\n",
              "      <td>en</td>\n",
              "      <td>21.9469</td>\n",
              "      <td>1995-10-30</td>\n",
              "      <td>81.0</td>\n",
              "      <td>Toy Story</td>\n",
              "      <td>7.7</td>\n",
              "      <td>5415.0</td>\n",
              "      <td>[{'id': 931, 'name': 'jealousy'}, {'id': 4290,...</td>\n",
              "      <td>[{'cast_id': 14, 'character': 'Woody (voice)',...</td>\n",
              "      <td>[{'credit_id': '52fe4284c3a36847f8024f49', 'de...</td>\n",
              "    </tr>\n",
              "    <tr>\n",
              "      <th>1</th>\n",
              "      <td>False</td>\n",
              "      <td>NaN</td>\n",
              "      <td>[{'id': 12, 'name': 'Adventure'}, {'id': 14, '...</td>\n",
              "      <td>8844</td>\n",
              "      <td>tt0113497</td>\n",
              "      <td>en</td>\n",
              "      <td>17.0155</td>\n",
              "      <td>1995-12-15</td>\n",
              "      <td>104.0</td>\n",
              "      <td>Jumanji</td>\n",
              "      <td>6.9</td>\n",
              "      <td>2413.0</td>\n",
              "      <td>[{'id': 10090, 'name': 'board game'}, {'id': 1...</td>\n",
              "      <td>[{'cast_id': 1, 'character': 'Alan Parrish', '...</td>\n",
              "      <td>[{'credit_id': '52fe44bfc3a36847f80a7cd1', 'de...</td>\n",
              "    </tr>\n",
              "    <tr>\n",
              "      <th>2</th>\n",
              "      <td>False</td>\n",
              "      <td>{'id': 119050, 'name': 'Grumpy Old Men Collect...</td>\n",
              "      <td>[{'id': 10749, 'name': 'Romance'}, {'id': 35, ...</td>\n",
              "      <td>15602</td>\n",
              "      <td>tt0113228</td>\n",
              "      <td>en</td>\n",
              "      <td>11.7129</td>\n",
              "      <td>1995-12-22</td>\n",
              "      <td>101.0</td>\n",
              "      <td>Grumpier Old Men</td>\n",
              "      <td>6.5</td>\n",
              "      <td>92.0</td>\n",
              "      <td>[{'id': 1495, 'name': 'fishing'}, {'id': 12392...</td>\n",
              "      <td>[{'cast_id': 2, 'character': 'Max Goldman', 'c...</td>\n",
              "      <td>[{'credit_id': '52fe466a9251416c75077a89', 'de...</td>\n",
              "    </tr>\n",
              "    <tr>\n",
              "      <th>3</th>\n",
              "      <td>False</td>\n",
              "      <td>NaN</td>\n",
              "      <td>[{'id': 35, 'name': 'Comedy'}, {'id': 18, 'nam...</td>\n",
              "      <td>31357</td>\n",
              "      <td>tt0114885</td>\n",
              "      <td>en</td>\n",
              "      <td>3.85949</td>\n",
              "      <td>1995-12-22</td>\n",
              "      <td>127.0</td>\n",
              "      <td>Waiting to Exhale</td>\n",
              "      <td>6.1</td>\n",
              "      <td>34.0</td>\n",
              "      <td>[{'id': 818, 'name': 'based on novel'}, {'id':...</td>\n",
              "      <td>[{'cast_id': 1, 'character': \"Savannah 'Vannah...</td>\n",
              "      <td>[{'credit_id': '52fe44779251416c91011acb', 'de...</td>\n",
              "    </tr>\n",
              "    <tr>\n",
              "      <th>4</th>\n",
              "      <td>False</td>\n",
              "      <td>{'id': 96871, 'name': 'Father of the Bride Col...</td>\n",
              "      <td>[{'id': 35, 'name': 'Comedy'}]</td>\n",
              "      <td>11862</td>\n",
              "      <td>tt0113041</td>\n",
              "      <td>en</td>\n",
              "      <td>8.38752</td>\n",
              "      <td>1995-02-10</td>\n",
              "      <td>106.0</td>\n",
              "      <td>Father of the Bride Part II</td>\n",
              "      <td>5.7</td>\n",
              "      <td>173.0</td>\n",
              "      <td>[{'id': 1009, 'name': 'baby'}, {'id': 1599, 'n...</td>\n",
              "      <td>[{'cast_id': 1, 'character': 'George Banks', '...</td>\n",
              "      <td>[{'credit_id': '52fe44959251416c75039ed7', 'de...</td>\n",
              "    </tr>\n",
              "    <tr>\n",
              "      <th>...</th>\n",
              "      <td>...</td>\n",
              "      <td>...</td>\n",
              "      <td>...</td>\n",
              "      <td>...</td>\n",
              "      <td>...</td>\n",
              "      <td>...</td>\n",
              "      <td>...</td>\n",
              "      <td>...</td>\n",
              "      <td>...</td>\n",
              "      <td>...</td>\n",
              "      <td>...</td>\n",
              "      <td>...</td>\n",
              "      <td>...</td>\n",
              "      <td>...</td>\n",
              "      <td>...</td>\n",
              "    </tr>\n",
              "    <tr>\n",
              "      <th>46623</th>\n",
              "      <td>False</td>\n",
              "      <td>NaN</td>\n",
              "      <td>[{'id': 18, 'name': 'Drama'}, {'id': 10751, 'n...</td>\n",
              "      <td>439050</td>\n",
              "      <td>tt6209470</td>\n",
              "      <td>fa</td>\n",
              "      <td>0.072051</td>\n",
              "      <td>NaN</td>\n",
              "      <td>90.0</td>\n",
              "      <td>Subdue</td>\n",
              "      <td>4.0</td>\n",
              "      <td>1.0</td>\n",
              "      <td>[{'id': 10703, 'name': 'tragic love'}]</td>\n",
              "      <td>[{'cast_id': 0, 'character': '', 'credit_id': ...</td>\n",
              "      <td>[{'credit_id': '5894a97d925141426c00818c', 'de...</td>\n",
              "    </tr>\n",
              "    <tr>\n",
              "      <th>46624</th>\n",
              "      <td>False</td>\n",
              "      <td>NaN</td>\n",
              "      <td>[{'id': 18, 'name': 'Drama'}]</td>\n",
              "      <td>111109</td>\n",
              "      <td>tt2028550</td>\n",
              "      <td>tl</td>\n",
              "      <td>0.178241</td>\n",
              "      <td>2011-11-17</td>\n",
              "      <td>360.0</td>\n",
              "      <td>Century of Birthing</td>\n",
              "      <td>9.0</td>\n",
              "      <td>3.0</td>\n",
              "      <td>[{'id': 2679, 'name': 'artist'}, {'id': 14531,...</td>\n",
              "      <td>[{'cast_id': 1002, 'character': 'Sister Angela...</td>\n",
              "      <td>[{'credit_id': '52fe4af1c3a36847f81e9b15', 'de...</td>\n",
              "    </tr>\n",
              "    <tr>\n",
              "      <th>46625</th>\n",
              "      <td>False</td>\n",
              "      <td>NaN</td>\n",
              "      <td>[{'id': 28, 'name': 'Action'}, {'id': 18, 'nam...</td>\n",
              "      <td>67758</td>\n",
              "      <td>tt0303758</td>\n",
              "      <td>en</td>\n",
              "      <td>0.903007</td>\n",
              "      <td>2003-08-01</td>\n",
              "      <td>90.0</td>\n",
              "      <td>Betrayal</td>\n",
              "      <td>3.8</td>\n",
              "      <td>6.0</td>\n",
              "      <td>[]</td>\n",
              "      <td>[{'cast_id': 6, 'character': 'Emily Shaw', 'cr...</td>\n",
              "      <td>[{'credit_id': '52fe4776c3a368484e0c8387', 'de...</td>\n",
              "    </tr>\n",
              "    <tr>\n",
              "      <th>46626</th>\n",
              "      <td>False</td>\n",
              "      <td>NaN</td>\n",
              "      <td>[]</td>\n",
              "      <td>227506</td>\n",
              "      <td>tt0008536</td>\n",
              "      <td>en</td>\n",
              "      <td>0.003503</td>\n",
              "      <td>1917-10-21</td>\n",
              "      <td>87.0</td>\n",
              "      <td>Satan Triumphant</td>\n",
              "      <td>0.0</td>\n",
              "      <td>0.0</td>\n",
              "      <td>[]</td>\n",
              "      <td>[{'cast_id': 2, 'character': '', 'credit_id': ...</td>\n",
              "      <td>[{'credit_id': '533bccebc3a36844cf0011a7', 'de...</td>\n",
              "    </tr>\n",
              "    <tr>\n",
              "      <th>46627</th>\n",
              "      <td>False</td>\n",
              "      <td>NaN</td>\n",
              "      <td>[]</td>\n",
              "      <td>461257</td>\n",
              "      <td>tt6980792</td>\n",
              "      <td>en</td>\n",
              "      <td>0.163015</td>\n",
              "      <td>2017-06-09</td>\n",
              "      <td>75.0</td>\n",
              "      <td>Queerama</td>\n",
              "      <td>0.0</td>\n",
              "      <td>0.0</td>\n",
              "      <td>[]</td>\n",
              "      <td>[]</td>\n",
              "      <td>[{'credit_id': '593e676c92514105b702e68e', 'de...</td>\n",
              "    </tr>\n",
              "  </tbody>\n",
              "</table>\n",
              "<p>46628 rows × 15 columns</p>\n",
              "</div>"
            ],
            "text/plain": [
              "       adult  ...                                               crew\n",
              "0      False  ...  [{'credit_id': '52fe4284c3a36847f8024f49', 'de...\n",
              "1      False  ...  [{'credit_id': '52fe44bfc3a36847f80a7cd1', 'de...\n",
              "2      False  ...  [{'credit_id': '52fe466a9251416c75077a89', 'de...\n",
              "3      False  ...  [{'credit_id': '52fe44779251416c91011acb', 'de...\n",
              "4      False  ...  [{'credit_id': '52fe44959251416c75039ed7', 'de...\n",
              "...      ...  ...                                                ...\n",
              "46623  False  ...  [{'credit_id': '5894a97d925141426c00818c', 'de...\n",
              "46624  False  ...  [{'credit_id': '52fe4af1c3a36847f81e9b15', 'de...\n",
              "46625  False  ...  [{'credit_id': '52fe4776c3a368484e0c8387', 'de...\n",
              "46626  False  ...  [{'credit_id': '533bccebc3a36844cf0011a7', 'de...\n",
              "46627  False  ...  [{'credit_id': '593e676c92514105b702e68e', 'de...\n",
              "\n",
              "[46628 rows x 15 columns]"
            ]
          },
          "metadata": {
            "tags": []
          },
          "execution_count": 37
        }
      ]
    },
    {
      "cell_type": "markdown",
      "metadata": {
        "id": "4gWRcS_DgKgC"
      },
      "source": [
        "#1. Simple Recommender Systems\n",
        "\n",
        "-> It offers generalized recommendations to every user based on popularity and/or genre\n",
        "\n",
        "-> Ex. IMDB TOP 250 movies"
      ]
    },
    {
      "cell_type": "code",
      "metadata": {
        "id": "Kevs5c--h6Ji"
      },
      "source": [
        "# Weighted Average(WR) = [(v.R)/(v+m)]+[(m.C)/(v+m)]\n",
        "\n",
        "# v : It is the no. of votes for the movie (vote_count)\n",
        "# R : Average rating of the movie (vote_average)\n",
        "# m : It is the minimum vote required to be listed in chart\n",
        "# C : Mean Vote across the whole report "
      ],
      "execution_count": null,
      "outputs": []
    },
    {
      "cell_type": "code",
      "metadata": {
        "id": "wJ71q-Cks_CK",
        "outputId": "dac9eb6f-9d0e-4112-9d97-e3cc9b09f69d",
        "colab": {
          "base_uri": "https://localhost:8080/",
          "height": 1000
        }
      },
      "source": [
        "merge_df12.sort_values('vote_count',ascending=False)[:20]"
      ],
      "execution_count": null,
      "outputs": [
        {
          "output_type": "execute_result",
          "data": {
            "text/html": [
              "<div>\n",
              "<style scoped>\n",
              "    .dataframe tbody tr th:only-of-type {\n",
              "        vertical-align: middle;\n",
              "    }\n",
              "\n",
              "    .dataframe tbody tr th {\n",
              "        vertical-align: top;\n",
              "    }\n",
              "\n",
              "    .dataframe thead th {\n",
              "        text-align: right;\n",
              "    }\n",
              "</style>\n",
              "<table border=\"1\" class=\"dataframe\">\n",
              "  <thead>\n",
              "    <tr style=\"text-align: right;\">\n",
              "      <th></th>\n",
              "      <th>adult</th>\n",
              "      <th>belongs_to_collection</th>\n",
              "      <th>genres</th>\n",
              "      <th>id</th>\n",
              "      <th>imdb_id</th>\n",
              "      <th>original_language</th>\n",
              "      <th>popularity</th>\n",
              "      <th>release_date</th>\n",
              "      <th>runtime</th>\n",
              "      <th>title</th>\n",
              "      <th>vote_average</th>\n",
              "      <th>vote_count</th>\n",
              "      <th>keywords</th>\n",
              "      <th>cast</th>\n",
              "      <th>crew</th>\n",
              "    </tr>\n",
              "  </thead>\n",
              "  <tbody>\n",
              "    <tr>\n",
              "      <th>15651</th>\n",
              "      <td>False</td>\n",
              "      <td>NaN</td>\n",
              "      <td>[{'id': 28, 'name': 'Action'}, {'id': 53, 'nam...</td>\n",
              "      <td>27205</td>\n",
              "      <td>tt1375666</td>\n",
              "      <td>en</td>\n",
              "      <td>29.1081</td>\n",
              "      <td>2010-07-14</td>\n",
              "      <td>148.0</td>\n",
              "      <td>Inception</td>\n",
              "      <td>8.1</td>\n",
              "      <td>14075.0</td>\n",
              "      <td>[{'id': 1014, 'name': 'loss of lover'}, {'id':...</td>\n",
              "      <td>[{'cast_id': 1, 'character': 'Dom Cobb', 'cred...</td>\n",
              "      <td>[{'credit_id': '56e8462cc3a368408400354c', 'de...</td>\n",
              "    </tr>\n",
              "    <tr>\n",
              "      <th>12589</th>\n",
              "      <td>False</td>\n",
              "      <td>{'id': 263, 'name': 'The Dark Knight Collectio...</td>\n",
              "      <td>[{'id': 18, 'name': 'Drama'}, {'id': 28, 'name...</td>\n",
              "      <td>155</td>\n",
              "      <td>tt0468569</td>\n",
              "      <td>en</td>\n",
              "      <td>123.167</td>\n",
              "      <td>2008-07-16</td>\n",
              "      <td>152.0</td>\n",
              "      <td>The Dark Knight</td>\n",
              "      <td>8.3</td>\n",
              "      <td>12269.0</td>\n",
              "      <td>[{'id': 849, 'name': 'dc comics'}, {'id': 853,...</td>\n",
              "      <td>[{'cast_id': 35, 'character': 'Bruce Wayne / B...</td>\n",
              "      <td>[{'credit_id': '55a0eb4a925141296b0010f8', 'de...</td>\n",
              "    </tr>\n",
              "    <tr>\n",
              "      <th>14723</th>\n",
              "      <td>False</td>\n",
              "      <td>{'id': 87096, 'name': 'Avatar Collection', 'po...</td>\n",
              "      <td>[{'id': 28, 'name': 'Action'}, {'id': 12, 'nam...</td>\n",
              "      <td>19995</td>\n",
              "      <td>tt0499549</td>\n",
              "      <td>en</td>\n",
              "      <td>185.071</td>\n",
              "      <td>2009-12-10</td>\n",
              "      <td>162.0</td>\n",
              "      <td>Avatar</td>\n",
              "      <td>7.2</td>\n",
              "      <td>12114.0</td>\n",
              "      <td>[{'id': 1463, 'name': 'culture clash'}, {'id':...</td>\n",
              "      <td>[{'cast_id': 242, 'character': 'Jake Sully', '...</td>\n",
              "      <td>[{'credit_id': '52fe48009251416c750aca23', 'de...</td>\n",
              "    </tr>\n",
              "    <tr>\n",
              "      <th>18008</th>\n",
              "      <td>False</td>\n",
              "      <td>{'id': 86311, 'name': 'The Avengers Collection...</td>\n",
              "      <td>[{'id': 878, 'name': 'Science Fiction'}, {'id'...</td>\n",
              "      <td>24428</td>\n",
              "      <td>tt0848228</td>\n",
              "      <td>en</td>\n",
              "      <td>89.8876</td>\n",
              "      <td>2012-04-25</td>\n",
              "      <td>143.0</td>\n",
              "      <td>The Avengers</td>\n",
              "      <td>7.4</td>\n",
              "      <td>12000.0</td>\n",
              "      <td>[{'id': 242, 'name': 'new york'}, {'id': 5539,...</td>\n",
              "      <td>[{'cast_id': 46, 'character': 'Tony Stark / Ir...</td>\n",
              "      <td>[{'credit_id': '52fe4495c3a368484e02b1cf', 'de...</td>\n",
              "    </tr>\n",
              "    <tr>\n",
              "      <th>26779</th>\n",
              "      <td>False</td>\n",
              "      <td>{'id': 448150, 'name': 'Deadpool Collection', ...</td>\n",
              "      <td>[{'id': 28, 'name': 'Action'}, {'id': 12, 'nam...</td>\n",
              "      <td>293660</td>\n",
              "      <td>tt1431045</td>\n",
              "      <td>en</td>\n",
              "      <td>187.86</td>\n",
              "      <td>2016-02-09</td>\n",
              "      <td>108.0</td>\n",
              "      <td>Deadpool</td>\n",
              "      <td>7.4</td>\n",
              "      <td>11444.0</td>\n",
              "      <td>[{'id': 2095, 'name': 'anti hero'}, {'id': 307...</td>\n",
              "      <td>[{'cast_id': 99, 'character': 'Wade Wilson / D...</td>\n",
              "      <td>[{'credit_id': '57e564fac3a3681beb0000cc', 'de...</td>\n",
              "    </tr>\n",
              "    <tr>\n",
              "      <th>23076</th>\n",
              "      <td>False</td>\n",
              "      <td>NaN</td>\n",
              "      <td>[{'id': 12, 'name': 'Adventure'}, {'id': 18, '...</td>\n",
              "      <td>157336</td>\n",
              "      <td>tt0816692</td>\n",
              "      <td>en</td>\n",
              "      <td>32.2135</td>\n",
              "      <td>2014-11-05</td>\n",
              "      <td>169.0</td>\n",
              "      <td>Interstellar</td>\n",
              "      <td>8.1</td>\n",
              "      <td>11187.0</td>\n",
              "      <td>[{'id': 83, 'name': 'saving the world'}, {'id'...</td>\n",
              "      <td>[{'cast_id': 9, 'character': 'Joseph Cooper', ...</td>\n",
              "      <td>[{'credit_id': '54cba75b925141678e014d1a', 'de...</td>\n",
              "    </tr>\n",
              "    <tr>\n",
              "      <th>20254</th>\n",
              "      <td>False</td>\n",
              "      <td>NaN</td>\n",
              "      <td>[{'id': 18, 'name': 'Drama'}, {'id': 37, 'name...</td>\n",
              "      <td>68718</td>\n",
              "      <td>tt1853728</td>\n",
              "      <td>en</td>\n",
              "      <td>19.785</td>\n",
              "      <td>2012-12-25</td>\n",
              "      <td>165.0</td>\n",
              "      <td>Django Unchained</td>\n",
              "      <td>7.8</td>\n",
              "      <td>10297.0</td>\n",
              "      <td>[{'id': 801, 'name': 'bounty hunter'}, {'id': ...</td>\n",
              "      <td>[{'cast_id': 6, 'character': 'Django', 'credit...</td>\n",
              "      <td>[{'credit_id': '5703f6a2c3a36869850001d9', 'de...</td>\n",
              "    </tr>\n",
              "    <tr>\n",
              "      <th>23948</th>\n",
              "      <td>False</td>\n",
              "      <td>{'id': 284433, 'name': 'Guardians of the Galax...</td>\n",
              "      <td>[{'id': 28, 'name': 'Action'}, {'id': 878, 'na...</td>\n",
              "      <td>118340</td>\n",
              "      <td>tt2015381</td>\n",
              "      <td>en</td>\n",
              "      <td>53.2916</td>\n",
              "      <td>2014-07-30</td>\n",
              "      <td>121.0</td>\n",
              "      <td>Guardians of the Galaxy</td>\n",
              "      <td>7.9</td>\n",
              "      <td>10014.0</td>\n",
              "      <td>[{'id': 8828, 'name': 'marvel comic'}, {'id': ...</td>\n",
              "      <td>[{'cast_id': 1, 'character': 'Peter Quill / St...</td>\n",
              "      <td>[{'credit_id': '538ce329c3a3687155003358', 'de...</td>\n",
              "    </tr>\n",
              "    <tr>\n",
              "      <th>2870</th>\n",
              "      <td>False</td>\n",
              "      <td>NaN</td>\n",
              "      <td>[{'id': 18, 'name': 'Drama'}]</td>\n",
              "      <td>550</td>\n",
              "      <td>tt0137523</td>\n",
              "      <td>en</td>\n",
              "      <td>63.8696</td>\n",
              "      <td>1999-10-15</td>\n",
              "      <td>139.0</td>\n",
              "      <td>Fight Club</td>\n",
              "      <td>8.3</td>\n",
              "      <td>9678.0</td>\n",
              "      <td>[{'id': 825, 'name': 'support group'}, {'id': ...</td>\n",
              "      <td>[{'cast_id': 4, 'character': 'The Narrator', '...</td>\n",
              "      <td>[{'credit_id': '55731b8192514111610027d7', 'de...</td>\n",
              "    </tr>\n",
              "    <tr>\n",
              "      <th>18434</th>\n",
              "      <td>False</td>\n",
              "      <td>{'id': 131635, 'name': 'The Hunger Games Colle...</td>\n",
              "      <td>[{'id': 878, 'name': 'Science Fiction'}, {'id'...</td>\n",
              "      <td>70160</td>\n",
              "      <td>tt1392170</td>\n",
              "      <td>en</td>\n",
              "      <td>20.0317</td>\n",
              "      <td>2012-03-12</td>\n",
              "      <td>142.0</td>\n",
              "      <td>The Hunger Games</td>\n",
              "      <td>6.9</td>\n",
              "      <td>9634.0</td>\n",
              "      <td>[{'id': 3298, 'name': 'hallucination'}, {'id':...</td>\n",
              "      <td>[{'cast_id': 4, 'character': 'Katniss Everdeen...</td>\n",
              "      <td>[{'credit_id': '52fe47edc3a368484e0e0d2d', 'de...</td>\n",
              "    </tr>\n",
              "    <tr>\n",
              "      <th>26768</th>\n",
              "      <td>False</td>\n",
              "      <td>{'id': 8945, 'name': 'Mad Max Collection', 'po...</td>\n",
              "      <td>[{'id': 28, 'name': 'Action'}, {'id': 12, 'nam...</td>\n",
              "      <td>76341</td>\n",
              "      <td>tt1392190</td>\n",
              "      <td>en</td>\n",
              "      <td>29.3618</td>\n",
              "      <td>2015-05-13</td>\n",
              "      <td>120.0</td>\n",
              "      <td>Mad Max: Fury Road</td>\n",
              "      <td>7.3</td>\n",
              "      <td>9629.0</td>\n",
              "      <td>[{'id': 2964, 'name': 'future'}, {'id': 3713, ...</td>\n",
              "      <td>[{'cast_id': 2, 'character': 'Max Rockatansky'...</td>\n",
              "      <td>[{'credit_id': '53d451210e0a262841002dd1', 'de...</td>\n",
              "    </tr>\n",
              "    <tr>\n",
              "      <th>18442</th>\n",
              "      <td>False</td>\n",
              "      <td>{'id': 263, 'name': 'The Dark Knight Collectio...</td>\n",
              "      <td>[{'id': 28, 'name': 'Action'}, {'id': 80, 'nam...</td>\n",
              "      <td>49026</td>\n",
              "      <td>tt1345836</td>\n",
              "      <td>en</td>\n",
              "      <td>20.5826</td>\n",
              "      <td>2012-07-16</td>\n",
              "      <td>165.0</td>\n",
              "      <td>The Dark Knight Rises</td>\n",
              "      <td>7.6</td>\n",
              "      <td>9263.0</td>\n",
              "      <td>[{'id': 849, 'name': 'dc comics'}, {'id': 853,...</td>\n",
              "      <td>[{'cast_id': 2, 'character': 'Bruce Wayne / Ba...</td>\n",
              "      <td>[{'credit_id': '52fe4781c3a36847f81398c3', 'de...</td>\n",
              "    </tr>\n",
              "    <tr>\n",
              "      <th>2478</th>\n",
              "      <td>False</td>\n",
              "      <td>{'id': 2344, 'name': 'The Matrix Collection', ...</td>\n",
              "      <td>[{'id': 28, 'name': 'Action'}, {'id': 878, 'na...</td>\n",
              "      <td>603</td>\n",
              "      <td>tt0133093</td>\n",
              "      <td>en</td>\n",
              "      <td>33.3663</td>\n",
              "      <td>1999-03-30</td>\n",
              "      <td>136.0</td>\n",
              "      <td>The Matrix</td>\n",
              "      <td>7.9</td>\n",
              "      <td>9079.0</td>\n",
              "      <td>[{'id': 83, 'name': 'saving the world'}, {'id'...</td>\n",
              "      <td>[{'cast_id': 34, 'character': 'Thomas \"Neo\" An...</td>\n",
              "      <td>[{'credit_id': '52fe425bc3a36847f801812f', 'de...</td>\n",
              "    </tr>\n",
              "    <tr>\n",
              "      <th>12696</th>\n",
              "      <td>False</td>\n",
              "      <td>{'id': 131292, 'name': 'Iron Man Collection', ...</td>\n",
              "      <td>[{'id': 28, 'name': 'Action'}, {'id': 878, 'na...</td>\n",
              "      <td>1726</td>\n",
              "      <td>tt0371746</td>\n",
              "      <td>en</td>\n",
              "      <td>22.0731</td>\n",
              "      <td>2008-04-30</td>\n",
              "      <td>126.0</td>\n",
              "      <td>Iron Man</td>\n",
              "      <td>7.4</td>\n",
              "      <td>8951.0</td>\n",
              "      <td>[{'id': 539, 'name': 'middle east'}, {'id': 61...</td>\n",
              "      <td>[{'cast_id': 19, 'character': 'Tony Stark / Ir...</td>\n",
              "      <td>[{'credit_id': '52fe4311c3a36847f8037f21', 'de...</td>\n",
              "    </tr>\n",
              "    <tr>\n",
              "      <th>21033</th>\n",
              "      <td>False</td>\n",
              "      <td>{'id': 131292, 'name': 'Iron Man Collection', ...</td>\n",
              "      <td>[{'id': 28, 'name': 'Action'}, {'id': 12, 'nam...</td>\n",
              "      <td>68721</td>\n",
              "      <td>tt1300854</td>\n",
              "      <td>en</td>\n",
              "      <td>23.7212</td>\n",
              "      <td>2013-04-18</td>\n",
              "      <td>130.0</td>\n",
              "      <td>Iron Man 3</td>\n",
              "      <td>6.8</td>\n",
              "      <td>8951.0</td>\n",
              "      <td>[{'id': 949, 'name': 'terrorist'}, {'id': 5597...</td>\n",
              "      <td>[{'cast_id': 40, 'character': 'Tony Stark / Ir...</td>\n",
              "      <td>[{'credit_id': '52fe47a0c3a368484e0d15cb', 'de...</td>\n",
              "    </tr>\n",
              "    <tr>\n",
              "      <th>4904</th>\n",
              "      <td>False</td>\n",
              "      <td>{'id': 119, 'name': 'The Lord of the Rings Col...</td>\n",
              "      <td>[{'id': 12, 'name': 'Adventure'}, {'id': 14, '...</td>\n",
              "      <td>120</td>\n",
              "      <td>tt0120737</td>\n",
              "      <td>en</td>\n",
              "      <td>32.0707</td>\n",
              "      <td>2001-12-18</td>\n",
              "      <td>178.0</td>\n",
              "      <td>The Lord of the Rings: The Fellowship of the Ring</td>\n",
              "      <td>8.0</td>\n",
              "      <td>8892.0</td>\n",
              "      <td>[{'id': 603, 'name': 'elves'}, {'id': 604, 'na...</td>\n",
              "      <td>[{'cast_id': 28, 'character': 'Frodo Baggins',...</td>\n",
              "      <td>[{'credit_id': '52fe421ac3a36847f80043ef', 'de...</td>\n",
              "    </tr>\n",
              "    <tr>\n",
              "      <th>25285</th>\n",
              "      <td>False</td>\n",
              "      <td>{'id': 328, 'name': 'Jurassic Park Collection'...</td>\n",
              "      <td>[{'id': 28, 'name': 'Action'}, {'id': 12, 'nam...</td>\n",
              "      <td>135397</td>\n",
              "      <td>tt0369610</td>\n",
              "      <td>en</td>\n",
              "      <td>32.7905</td>\n",
              "      <td>2015-06-09</td>\n",
              "      <td>124.0</td>\n",
              "      <td>Jurassic World</td>\n",
              "      <td>6.5</td>\n",
              "      <td>8842.0</td>\n",
              "      <td>[{'id': 1299, 'name': 'monster'}, {'id': 1718,...</td>\n",
              "      <td>[{'cast_id': 10, 'character': 'Owen Grady', 'c...</td>\n",
              "      <td>[{'credit_id': '52fe4bf7c3a368484e1a066b', 'de...</td>\n",
              "    </tr>\n",
              "    <tr>\n",
              "      <th>292</th>\n",
              "      <td>False</td>\n",
              "      <td>NaN</td>\n",
              "      <td>[{'id': 53, 'name': 'Thriller'}, {'id': 80, 'n...</td>\n",
              "      <td>680</td>\n",
              "      <td>tt0110912</td>\n",
              "      <td>en</td>\n",
              "      <td>140.95</td>\n",
              "      <td>1994-09-10</td>\n",
              "      <td>154.0</td>\n",
              "      <td>Pulp Fiction</td>\n",
              "      <td>8.3</td>\n",
              "      <td>8670.0</td>\n",
              "      <td>[{'id': 396, 'name': 'transporter'}, {'id': 14...</td>\n",
              "      <td>[{'cast_id': 2, 'character': 'Vincent Vega', '...</td>\n",
              "      <td>[{'credit_id': '52fe4269c3a36847f801caa3', 'de...</td>\n",
              "    </tr>\n",
              "    <tr>\n",
              "      <th>20174</th>\n",
              "      <td>False</td>\n",
              "      <td>{'id': 121938, 'name': 'The Hobbit Collection'...</td>\n",
              "      <td>[{'id': 12, 'name': 'Adventure'}, {'id': 14, '...</td>\n",
              "      <td>49051</td>\n",
              "      <td>tt0903624</td>\n",
              "      <td>en</td>\n",
              "      <td>23.2531</td>\n",
              "      <td>2012-11-26</td>\n",
              "      <td>169.0</td>\n",
              "      <td>The Hobbit: An Unexpected Journey</td>\n",
              "      <td>7.0</td>\n",
              "      <td>8427.0</td>\n",
              "      <td>[{'id': 483, 'name': 'riddle'}, {'id': 603, 'n...</td>\n",
              "      <td>[{'cast_id': 6, 'character': 'Gandalf', 'credi...</td>\n",
              "      <td>[{'credit_id': '52fe4783c3a36847f8139f7f', 'de...</td>\n",
              "    </tr>\n",
              "    <tr>\n",
              "      <th>314</th>\n",
              "      <td>False</td>\n",
              "      <td>NaN</td>\n",
              "      <td>[{'id': 18, 'name': 'Drama'}, {'id': 80, 'name...</td>\n",
              "      <td>278</td>\n",
              "      <td>tt0111161</td>\n",
              "      <td>en</td>\n",
              "      <td>51.6454</td>\n",
              "      <td>1994-09-23</td>\n",
              "      <td>142.0</td>\n",
              "      <td>The Shawshank Redemption</td>\n",
              "      <td>8.5</td>\n",
              "      <td>8358.0</td>\n",
              "      <td>[{'id': 378, 'name': 'prison'}, {'id': 417, 'n...</td>\n",
              "      <td>[{'cast_id': 3, 'character': 'Andy Dufresne', ...</td>\n",
              "      <td>[{'credit_id': '52fe4231c3a36847f800b127', 'de...</td>\n",
              "    </tr>\n",
              "  </tbody>\n",
              "</table>\n",
              "</div>"
            ],
            "text/plain": [
              "       adult  ...                                               crew\n",
              "15651  False  ...  [{'credit_id': '56e8462cc3a368408400354c', 'de...\n",
              "12589  False  ...  [{'credit_id': '55a0eb4a925141296b0010f8', 'de...\n",
              "14723  False  ...  [{'credit_id': '52fe48009251416c750aca23', 'de...\n",
              "18008  False  ...  [{'credit_id': '52fe4495c3a368484e02b1cf', 'de...\n",
              "26779  False  ...  [{'credit_id': '57e564fac3a3681beb0000cc', 'de...\n",
              "23076  False  ...  [{'credit_id': '54cba75b925141678e014d1a', 'de...\n",
              "20254  False  ...  [{'credit_id': '5703f6a2c3a36869850001d9', 'de...\n",
              "23948  False  ...  [{'credit_id': '538ce329c3a3687155003358', 'de...\n",
              "2870   False  ...  [{'credit_id': '55731b8192514111610027d7', 'de...\n",
              "18434  False  ...  [{'credit_id': '52fe47edc3a368484e0e0d2d', 'de...\n",
              "26768  False  ...  [{'credit_id': '53d451210e0a262841002dd1', 'de...\n",
              "18442  False  ...  [{'credit_id': '52fe4781c3a36847f81398c3', 'de...\n",
              "2478   False  ...  [{'credit_id': '52fe425bc3a36847f801812f', 'de...\n",
              "12696  False  ...  [{'credit_id': '52fe4311c3a36847f8037f21', 'de...\n",
              "21033  False  ...  [{'credit_id': '52fe47a0c3a368484e0d15cb', 'de...\n",
              "4904   False  ...  [{'credit_id': '52fe421ac3a36847f80043ef', 'de...\n",
              "25285  False  ...  [{'credit_id': '52fe4bf7c3a368484e1a066b', 'de...\n",
              "292    False  ...  [{'credit_id': '52fe4269c3a36847f801caa3', 'de...\n",
              "20174  False  ...  [{'credit_id': '52fe4783c3a36847f8139f7f', 'de...\n",
              "314    False  ...  [{'credit_id': '52fe4231c3a36847f800b127', 'de...\n",
              "\n",
              "[20 rows x 15 columns]"
            ]
          },
          "metadata": {
            "tags": []
          },
          "execution_count": 39
        }
      ]
    },
    {
      "cell_type": "code",
      "metadata": {
        "id": "mKI_lAN8kzH0",
        "outputId": "476a7946-3712-46e4-b0bc-a645e87ce380",
        "colab": {
          "base_uri": "https://localhost:8080/",
          "height": 225
        }
      },
      "source": [
        "merge_df12['vote_average']"
      ],
      "execution_count": null,
      "outputs": [
        {
          "output_type": "execute_result",
          "data": {
            "text/plain": [
              "0        7.7\n",
              "1        6.9\n",
              "2        6.5\n",
              "3        6.1\n",
              "4        5.7\n",
              "        ... \n",
              "46623    4.0\n",
              "46624    9.0\n",
              "46625    3.8\n",
              "46626    0.0\n",
              "46627    0.0\n",
              "Name: vote_average, Length: 46628, dtype: float64"
            ]
          },
          "metadata": {
            "tags": []
          },
          "execution_count": 40
        }
      ]
    },
    {
      "cell_type": "code",
      "metadata": {
        "id": "-R8WMk3pjKur",
        "outputId": "75cf1be5-039e-4e81-e715-6c1a8a904356",
        "colab": {
          "base_uri": "https://localhost:8080/",
          "height": 35
        }
      },
      "source": [
        "C = merge_df12['vote_average'].mean()\n",
        "C"
      ],
      "execution_count": null,
      "outputs": [
        {
          "output_type": "execute_result",
          "data": {
            "text/plain": [
              "5.611727865476706"
            ]
          },
          "metadata": {
            "tags": []
          },
          "execution_count": 41
        }
      ]
    },
    {
      "cell_type": "code",
      "metadata": {
        "id": "MWIR6ncFjfUV",
        "outputId": "3360dde1-d3ae-4bb9-962e-5d594fec045e",
        "colab": {
          "base_uri": "https://localhost:8080/",
          "height": 35
        }
      },
      "source": [
        "m = merge_df12['vote_count'].quantile(0.90)\n",
        "m"
      ],
      "execution_count": null,
      "outputs": [
        {
          "output_type": "execute_result",
          "data": {
            "text/plain": [
              "156.0"
            ]
          },
          "metadata": {
            "tags": []
          },
          "execution_count": 42
        }
      ]
    },
    {
      "cell_type": "code",
      "metadata": {
        "id": "ApfWh__gl5Pl",
        "outputId": "4dbc929a-cfb6-43b0-a0bf-f72287b030af",
        "colab": {
          "base_uri": "https://localhost:8080/",
          "height": 35
        }
      },
      "source": [
        "topq_movies = merge_df12.copy().loc[merge_df12['vote_count']>=m]\n",
        "print(topq_movies.shape) "
      ],
      "execution_count": null,
      "outputs": [
        {
          "output_type": "stream",
          "text": [
            "(4680, 15)\n"
          ],
          "name": "stdout"
        }
      ]
    },
    {
      "cell_type": "code",
      "metadata": {
        "id": "axmV61I7mrQU",
        "outputId": "b93dbec4-dca7-4b4e-dd12-b9d42a12aaa5",
        "colab": {
          "base_uri": "https://localhost:8080/",
          "height": 35
        }
      },
      "source": [
        "merge_df12.shape"
      ],
      "execution_count": null,
      "outputs": [
        {
          "output_type": "execute_result",
          "data": {
            "text/plain": [
              "(46628, 15)"
            ]
          },
          "metadata": {
            "tags": []
          },
          "execution_count": 44
        }
      ]
    },
    {
      "cell_type": "code",
      "metadata": {
        "id": "PtgNdR6QmyHr"
      },
      "source": [
        "# i.e 10 % movies are getting vote count of 156 or above\n",
        "# now we need to find the Weighted Rating of each qualified movie\n",
        "\n",
        "def WeightedRating(x,m=m,C=C):\n",
        "  v = x['vote_count']\n",
        "  R = x['vote_average']\n",
        "  return ((v/v+m)*R )+ ((m/v+m)*C)"
      ],
      "execution_count": null,
      "outputs": []
    },
    {
      "cell_type": "code",
      "metadata": {
        "id": "ByAxeoUvoYI3",
        "outputId": "16551df1-54bf-4915-eded-1a6a2c78b60c",
        "colab": {
          "base_uri": "https://localhost:8080/",
          "height": 1000
        }
      },
      "source": [
        "# Now we are making another column field in the qualified movies' dataframe which will have the WeightedRating score.\n",
        "topq_movies['wr_score'] = topq_movies.apply(WeightedRating, axis=1)\n",
        "topq_movies"
      ],
      "execution_count": null,
      "outputs": [
        {
          "output_type": "execute_result",
          "data": {
            "text/html": [
              "<div>\n",
              "<style scoped>\n",
              "    .dataframe tbody tr th:only-of-type {\n",
              "        vertical-align: middle;\n",
              "    }\n",
              "\n",
              "    .dataframe tbody tr th {\n",
              "        vertical-align: top;\n",
              "    }\n",
              "\n",
              "    .dataframe thead th {\n",
              "        text-align: right;\n",
              "    }\n",
              "</style>\n",
              "<table border=\"1\" class=\"dataframe\">\n",
              "  <thead>\n",
              "    <tr style=\"text-align: right;\">\n",
              "      <th></th>\n",
              "      <th>adult</th>\n",
              "      <th>belongs_to_collection</th>\n",
              "      <th>genres</th>\n",
              "      <th>id</th>\n",
              "      <th>imdb_id</th>\n",
              "      <th>original_language</th>\n",
              "      <th>popularity</th>\n",
              "      <th>release_date</th>\n",
              "      <th>runtime</th>\n",
              "      <th>title</th>\n",
              "      <th>vote_average</th>\n",
              "      <th>vote_count</th>\n",
              "      <th>keywords</th>\n",
              "      <th>cast</th>\n",
              "      <th>crew</th>\n",
              "      <th>wr_score</th>\n",
              "    </tr>\n",
              "  </thead>\n",
              "  <tbody>\n",
              "    <tr>\n",
              "      <th>0</th>\n",
              "      <td>False</td>\n",
              "      <td>{'id': 10194, 'name': 'Toy Story Collection', ...</td>\n",
              "      <td>[{'id': 16, 'name': 'Animation'}, {'id': 35, '...</td>\n",
              "      <td>862</td>\n",
              "      <td>tt0114709</td>\n",
              "      <td>en</td>\n",
              "      <td>21.9469</td>\n",
              "      <td>1995-10-30</td>\n",
              "      <td>81.0</td>\n",
              "      <td>Toy Story</td>\n",
              "      <td>7.7</td>\n",
              "      <td>5415.0</td>\n",
              "      <td>[{'id': 931, 'name': 'jealousy'}, {'id': 4290,...</td>\n",
              "      <td>[{'cast_id': 14, 'character': 'Woody (voice)',...</td>\n",
              "      <td>[{'credit_id': '52fe4284c3a36847f8024f49', 'de...</td>\n",
              "      <td>2084.491215</td>\n",
              "    </tr>\n",
              "    <tr>\n",
              "      <th>1</th>\n",
              "      <td>False</td>\n",
              "      <td>NaN</td>\n",
              "      <td>[{'id': 12, 'name': 'Adventure'}, {'id': 14, '...</td>\n",
              "      <td>8844</td>\n",
              "      <td>tt0113497</td>\n",
              "      <td>en</td>\n",
              "      <td>17.0155</td>\n",
              "      <td>1995-12-15</td>\n",
              "      <td>104.0</td>\n",
              "      <td>Jumanji</td>\n",
              "      <td>6.9</td>\n",
              "      <td>2413.0</td>\n",
              "      <td>[{'id': 10090, 'name': 'board game'}, {'id': 1...</td>\n",
              "      <td>[{'cast_id': 1, 'character': 'Alan Parrish', '...</td>\n",
              "      <td>[{'credit_id': '52fe44bfc3a36847f80a7cd1', 'de...</td>\n",
              "      <td>1959.092344</td>\n",
              "    </tr>\n",
              "    <tr>\n",
              "      <th>4</th>\n",
              "      <td>False</td>\n",
              "      <td>{'id': 96871, 'name': 'Father of the Bride Col...</td>\n",
              "      <td>[{'id': 35, 'name': 'Comedy'}]</td>\n",
              "      <td>11862</td>\n",
              "      <td>tt0113041</td>\n",
              "      <td>en</td>\n",
              "      <td>8.38752</td>\n",
              "      <td>1995-02-10</td>\n",
              "      <td>106.0</td>\n",
              "      <td>Father of the Bride Part II</td>\n",
              "      <td>5.7</td>\n",
              "      <td>173.0</td>\n",
              "      <td>[{'id': 1009, 'name': 'baby'}, {'id': 1599, 'n...</td>\n",
              "      <td>[{'cast_id': 1, 'character': 'George Banks', '...</td>\n",
              "      <td>[{'credit_id': '52fe44959251416c75039ed7', 'de...</td>\n",
              "      <td>1775.389833</td>\n",
              "    </tr>\n",
              "    <tr>\n",
              "      <th>5</th>\n",
              "      <td>False</td>\n",
              "      <td>NaN</td>\n",
              "      <td>[{'id': 28, 'name': 'Action'}, {'id': 80, 'nam...</td>\n",
              "      <td>949</td>\n",
              "      <td>tt0113277</td>\n",
              "      <td>en</td>\n",
              "      <td>17.9249</td>\n",
              "      <td>1995-12-15</td>\n",
              "      <td>170.0</td>\n",
              "      <td>Heat</td>\n",
              "      <td>7.7</td>\n",
              "      <td>1886.0</td>\n",
              "      <td>[{'id': 642, 'name': 'robbery'}, {'id': 703, '...</td>\n",
              "      <td>[{'cast_id': 25, 'character': 'Lt. Vincent Han...</td>\n",
              "      <td>[{'credit_id': '52fe4292c3a36847f802916d', 'de...</td>\n",
              "      <td>2084.793720</td>\n",
              "    </tr>\n",
              "    <tr>\n",
              "      <th>8</th>\n",
              "      <td>False</td>\n",
              "      <td>NaN</td>\n",
              "      <td>[{'id': 28, 'name': 'Action'}, {'id': 12, 'nam...</td>\n",
              "      <td>9091</td>\n",
              "      <td>tt0114576</td>\n",
              "      <td>en</td>\n",
              "      <td>5.23158</td>\n",
              "      <td>1995-12-22</td>\n",
              "      <td>106.0</td>\n",
              "      <td>Sudden Death</td>\n",
              "      <td>5.5</td>\n",
              "      <td>174.0</td>\n",
              "      <td>[{'id': 949, 'name': 'terrorist'}, {'id': 1562...</td>\n",
              "      <td>[{'cast_id': 1, 'character': 'Darren Francis T...</td>\n",
              "      <td>[{'credit_id': '52fe44dbc3a36847f80ae0f1', 'de...</td>\n",
              "      <td>1743.960751</td>\n",
              "    </tr>\n",
              "    <tr>\n",
              "      <th>...</th>\n",
              "      <td>...</td>\n",
              "      <td>...</td>\n",
              "      <td>...</td>\n",
              "      <td>...</td>\n",
              "      <td>...</td>\n",
              "      <td>...</td>\n",
              "      <td>...</td>\n",
              "      <td>...</td>\n",
              "      <td>...</td>\n",
              "      <td>...</td>\n",
              "      <td>...</td>\n",
              "      <td>...</td>\n",
              "      <td>...</td>\n",
              "      <td>...</td>\n",
              "      <td>...</td>\n",
              "      <td>...</td>\n",
              "    </tr>\n",
              "    <tr>\n",
              "      <th>46337</th>\n",
              "      <td>False</td>\n",
              "      <td>NaN</td>\n",
              "      <td>[{'id': 18, 'name': 'Drama'}, {'id': 80, 'name...</td>\n",
              "      <td>339692</td>\n",
              "      <td>tt4633690</td>\n",
              "      <td>en</td>\n",
              "      <td>15.786854</td>\n",
              "      <td>2017-07-13</td>\n",
              "      <td>121.0</td>\n",
              "      <td>Shot Caller</td>\n",
              "      <td>6.9</td>\n",
              "      <td>324.0</td>\n",
              "      <td>[{'id': 331, 'name': 'tattoo'}, {'id': 378, 'n...</td>\n",
              "      <td>[{'cast_id': 2, 'character': 'Jacob / Money', ...</td>\n",
              "      <td>[{'credit_id': '59ad5143c3a3682c0a044cd5', 'de...</td>\n",
              "      <td>1961.431490</td>\n",
              "    </tr>\n",
              "    <tr>\n",
              "      <th>46340</th>\n",
              "      <td>False</td>\n",
              "      <td>{'id': 442352, 'name': 'Brice Collection', 'po...</td>\n",
              "      <td>[{'id': 35, 'name': 'Comedy'}]</td>\n",
              "      <td>375798</td>\n",
              "      <td>tt5029602</td>\n",
              "      <td>fr</td>\n",
              "      <td>7.276407</td>\n",
              "      <td>2016-10-19</td>\n",
              "      <td>95.0</td>\n",
              "      <td>Brice 3</td>\n",
              "      <td>4.3</td>\n",
              "      <td>160.0</td>\n",
              "      <td>[]</td>\n",
              "      <td>[{'cast_id': 0, 'character': 'Brice de Nice', ...</td>\n",
              "      <td>[{'credit_id': '580a1a05c3a36814af003704', 'de...</td>\n",
              "      <td>1556.000982</td>\n",
              "    </tr>\n",
              "    <tr>\n",
              "      <th>46367</th>\n",
              "      <td>False</td>\n",
              "      <td>NaN</td>\n",
              "      <td>[{'id': 35, 'name': 'Comedy'}]</td>\n",
              "      <td>417870</td>\n",
              "      <td>tt3564472</td>\n",
              "      <td>en</td>\n",
              "      <td>37.964872</td>\n",
              "      <td>2017-07-21</td>\n",
              "      <td>122.0</td>\n",
              "      <td>Girls Trip</td>\n",
              "      <td>7.1</td>\n",
              "      <td>393.0</td>\n",
              "      <td>[]</td>\n",
              "      <td>[{'cast_id': 6, 'character': 'Ryan Pierce', 'c...</td>\n",
              "      <td>[{'credit_id': '597a1749c3a3686868015efc', 'de...</td>\n",
              "      <td>1992.357103</td>\n",
              "    </tr>\n",
              "    <tr>\n",
              "      <th>46421</th>\n",
              "      <td>False</td>\n",
              "      <td>{'id': 466463, 'name': 'Descendants Collection...</td>\n",
              "      <td>[{'id': 10770, 'name': 'TV Movie'}, {'id': 107...</td>\n",
              "      <td>417320</td>\n",
              "      <td>tt5117876</td>\n",
              "      <td>en</td>\n",
              "      <td>15.842073</td>\n",
              "      <td>2017-07-21</td>\n",
              "      <td>111.0</td>\n",
              "      <td>Descendants 2</td>\n",
              "      <td>7.5</td>\n",
              "      <td>171.0</td>\n",
              "      <td>[{'id': 3205, 'name': 'fairy tale'}, {'id': 32...</td>\n",
              "      <td>[{'cast_id': 3, 'character': 'Mal', 'credit_id...</td>\n",
              "      <td>[{'credit_id': '57e3b56ac3a3682cb3001e4f', 'de...</td>\n",
              "      <td>2058.049018</td>\n",
              "    </tr>\n",
              "    <tr>\n",
              "      <th>46505</th>\n",
              "      <td>False</td>\n",
              "      <td>{'id': 52888, 'name': 'The Visitors Collection...</td>\n",
              "      <td>[{'id': 35, 'name': 'Comedy'}]</td>\n",
              "      <td>248705</td>\n",
              "      <td>tt2441982</td>\n",
              "      <td>fr</td>\n",
              "      <td>7.29492</td>\n",
              "      <td>2016-03-23</td>\n",
              "      <td>110.0</td>\n",
              "      <td>The Visitors: Bastille Day</td>\n",
              "      <td>4.0</td>\n",
              "      <td>167.0</td>\n",
              "      <td>[{'id': 2652, 'name': 'nazis'}, {'id': 3098, '...</td>\n",
              "      <td>[{'cast_id': 2, 'character': 'Le comte Godefro...</td>\n",
              "      <td>[{'credit_id': '52fe4f37c3a36847f82c5efb', 'de...</td>\n",
              "      <td>1508.671640</td>\n",
              "    </tr>\n",
              "  </tbody>\n",
              "</table>\n",
              "<p>4680 rows × 16 columns</p>\n",
              "</div>"
            ],
            "text/plain": [
              "       adult  ...     wr_score\n",
              "0      False  ...  2084.491215\n",
              "1      False  ...  1959.092344\n",
              "4      False  ...  1775.389833\n",
              "5      False  ...  2084.793720\n",
              "8      False  ...  1743.960751\n",
              "...      ...  ...          ...\n",
              "46337  False  ...  1961.431490\n",
              "46340  False  ...  1556.000982\n",
              "46367  False  ...  1992.357103\n",
              "46421  False  ...  2058.049018\n",
              "46505  False  ...  1508.671640\n",
              "\n",
              "[4680 rows x 16 columns]"
            ]
          },
          "metadata": {
            "tags": []
          },
          "execution_count": 46
        }
      ]
    },
    {
      "cell_type": "code",
      "metadata": {
        "id": "SbQz8-t82m-A",
        "outputId": "897fe31f-6c72-4343-d263-4ad0d5db3833",
        "colab": {
          "base_uri": "https://localhost:8080/",
          "height": 1000
        }
      },
      "source": [
        "movies_metadata.tail(10)"
      ],
      "execution_count": null,
      "outputs": [
        {
          "output_type": "execute_result",
          "data": {
            "text/html": [
              "<div>\n",
              "<style scoped>\n",
              "    .dataframe tbody tr th:only-of-type {\n",
              "        vertical-align: middle;\n",
              "    }\n",
              "\n",
              "    .dataframe tbody tr th {\n",
              "        vertical-align: top;\n",
              "    }\n",
              "\n",
              "    .dataframe thead th {\n",
              "        text-align: right;\n",
              "    }\n",
              "</style>\n",
              "<table border=\"1\" class=\"dataframe\">\n",
              "  <thead>\n",
              "    <tr style=\"text-align: right;\">\n",
              "      <th></th>\n",
              "      <th>adult</th>\n",
              "      <th>belongs_to_collection</th>\n",
              "      <th>budget</th>\n",
              "      <th>genres</th>\n",
              "      <th>homepage</th>\n",
              "      <th>id</th>\n",
              "      <th>imdb_id</th>\n",
              "      <th>original_language</th>\n",
              "      <th>original_title</th>\n",
              "      <th>overview</th>\n",
              "      <th>popularity</th>\n",
              "      <th>poster_path</th>\n",
              "      <th>production_companies</th>\n",
              "      <th>production_countries</th>\n",
              "      <th>release_date</th>\n",
              "      <th>revenue</th>\n",
              "      <th>runtime</th>\n",
              "      <th>spoken_languages</th>\n",
              "      <th>status</th>\n",
              "      <th>tagline</th>\n",
              "      <th>title</th>\n",
              "      <th>video</th>\n",
              "      <th>vote_average</th>\n",
              "      <th>vote_count</th>\n",
              "    </tr>\n",
              "  </thead>\n",
              "  <tbody>\n",
              "    <tr>\n",
              "      <th>45456</th>\n",
              "      <td>False</td>\n",
              "      <td>NaN</td>\n",
              "      <td>0</td>\n",
              "      <td>[{'id': 27, 'name': 'Horror'}, {'id': 9648, 'n...</td>\n",
              "      <td>NaN</td>\n",
              "      <td>84419</td>\n",
              "      <td>tt0038621</td>\n",
              "      <td>en</td>\n",
              "      <td>House of Horrors</td>\n",
              "      <td>An unsuccessful sculptor saves a madman named ...</td>\n",
              "      <td>0.222814</td>\n",
              "      <td>/yMnq9mL5uYxbRgwKqyz1cVGCJYJ.jpg</td>\n",
              "      <td>[{'name': 'Universal Pictures', 'id': 33}]</td>\n",
              "      <td>[{'iso_3166_1': 'US', 'name': 'United States o...</td>\n",
              "      <td>1946-03-29</td>\n",
              "      <td>0.0</td>\n",
              "      <td>65.0</td>\n",
              "      <td>[{'iso_639_1': 'en', 'name': 'English'}]</td>\n",
              "      <td>Released</td>\n",
              "      <td>Meet...The CREEPER!</td>\n",
              "      <td>House of Horrors</td>\n",
              "      <td>False</td>\n",
              "      <td>6.3</td>\n",
              "      <td>8.0</td>\n",
              "    </tr>\n",
              "    <tr>\n",
              "      <th>45457</th>\n",
              "      <td>False</td>\n",
              "      <td>NaN</td>\n",
              "      <td>0</td>\n",
              "      <td>[{'id': 9648, 'name': 'Mystery'}, {'id': 27, '...</td>\n",
              "      <td>NaN</td>\n",
              "      <td>390959</td>\n",
              "      <td>tt0265736</td>\n",
              "      <td>en</td>\n",
              "      <td>Shadow of the Blair Witch</td>\n",
              "      <td>In this true-crime documentary, we delve into ...</td>\n",
              "      <td>0.076061</td>\n",
              "      <td>/q75tCM4pFmUzdCg0gqcOQquCaYf.jpg</td>\n",
              "      <td>[]</td>\n",
              "      <td>[]</td>\n",
              "      <td>2000-10-22</td>\n",
              "      <td>0.0</td>\n",
              "      <td>45.0</td>\n",
              "      <td>[{'iso_639_1': 'en', 'name': 'English'}]</td>\n",
              "      <td>Released</td>\n",
              "      <td>NaN</td>\n",
              "      <td>Shadow of the Blair Witch</td>\n",
              "      <td>False</td>\n",
              "      <td>7.0</td>\n",
              "      <td>2.0</td>\n",
              "    </tr>\n",
              "    <tr>\n",
              "      <th>45458</th>\n",
              "      <td>False</td>\n",
              "      <td>NaN</td>\n",
              "      <td>0</td>\n",
              "      <td>[{'id': 27, 'name': 'Horror'}]</td>\n",
              "      <td>NaN</td>\n",
              "      <td>289923</td>\n",
              "      <td>tt0252966</td>\n",
              "      <td>en</td>\n",
              "      <td>The Burkittsville 7</td>\n",
              "      <td>A film archivist revisits the story of Rustin ...</td>\n",
              "      <td>0.38645</td>\n",
              "      <td>/lXtoHVdej6kS1Dc7KAhw05sMos9.jpg</td>\n",
              "      <td>[{'name': 'Neptune Salad Entertainment', 'id':...</td>\n",
              "      <td>[{'iso_3166_1': 'US', 'name': 'United States o...</td>\n",
              "      <td>2000-10-03</td>\n",
              "      <td>0.0</td>\n",
              "      <td>30.0</td>\n",
              "      <td>[{'iso_639_1': 'en', 'name': 'English'}]</td>\n",
              "      <td>Released</td>\n",
              "      <td>Do you know what happened 50 years before \"The...</td>\n",
              "      <td>The Burkittsville 7</td>\n",
              "      <td>False</td>\n",
              "      <td>7.0</td>\n",
              "      <td>1.0</td>\n",
              "    </tr>\n",
              "    <tr>\n",
              "      <th>45459</th>\n",
              "      <td>False</td>\n",
              "      <td>NaN</td>\n",
              "      <td>0</td>\n",
              "      <td>[{'id': 878, 'name': 'Science Fiction'}]</td>\n",
              "      <td>NaN</td>\n",
              "      <td>222848</td>\n",
              "      <td>tt0112613</td>\n",
              "      <td>en</td>\n",
              "      <td>Caged Heat 3000</td>\n",
              "      <td>It's the year 3000 AD. The world's most danger...</td>\n",
              "      <td>0.661558</td>\n",
              "      <td>/4lF9LH0b0Z1X94xGK9IOzqEW6k1.jpg</td>\n",
              "      <td>[{'name': 'Concorde-New Horizons', 'id': 4688}]</td>\n",
              "      <td>[{'iso_3166_1': 'US', 'name': 'United States o...</td>\n",
              "      <td>1995-01-01</td>\n",
              "      <td>0.0</td>\n",
              "      <td>85.0</td>\n",
              "      <td>[{'iso_639_1': 'en', 'name': 'English'}]</td>\n",
              "      <td>Released</td>\n",
              "      <td>NaN</td>\n",
              "      <td>Caged Heat 3000</td>\n",
              "      <td>False</td>\n",
              "      <td>3.5</td>\n",
              "      <td>1.0</td>\n",
              "    </tr>\n",
              "    <tr>\n",
              "      <th>45460</th>\n",
              "      <td>False</td>\n",
              "      <td>NaN</td>\n",
              "      <td>0</td>\n",
              "      <td>[{'id': 18, 'name': 'Drama'}, {'id': 28, 'name...</td>\n",
              "      <td>NaN</td>\n",
              "      <td>30840</td>\n",
              "      <td>tt0102797</td>\n",
              "      <td>en</td>\n",
              "      <td>Robin Hood</td>\n",
              "      <td>Yet another version of the classic epic, with ...</td>\n",
              "      <td>5.683753</td>\n",
              "      <td>/fQC46NglNiEMZBv5XHoyLuOWoN5.jpg</td>\n",
              "      <td>[{'name': 'Westdeutscher Rundfunk (WDR)', 'id'...</td>\n",
              "      <td>[{'iso_3166_1': 'CA', 'name': 'Canada'}, {'iso...</td>\n",
              "      <td>1991-05-13</td>\n",
              "      <td>0.0</td>\n",
              "      <td>104.0</td>\n",
              "      <td>[{'iso_639_1': 'en', 'name': 'English'}]</td>\n",
              "      <td>Released</td>\n",
              "      <td>NaN</td>\n",
              "      <td>Robin Hood</td>\n",
              "      <td>False</td>\n",
              "      <td>5.7</td>\n",
              "      <td>26.0</td>\n",
              "    </tr>\n",
              "    <tr>\n",
              "      <th>45461</th>\n",
              "      <td>False</td>\n",
              "      <td>NaN</td>\n",
              "      <td>0</td>\n",
              "      <td>[{'id': 18, 'name': 'Drama'}, {'id': 10751, 'n...</td>\n",
              "      <td>http://www.imdb.com/title/tt6209470/</td>\n",
              "      <td>439050</td>\n",
              "      <td>tt6209470</td>\n",
              "      <td>fa</td>\n",
              "      <td>رگ خواب</td>\n",
              "      <td>Rising and falling between a man and woman.</td>\n",
              "      <td>0.072051</td>\n",
              "      <td>/jldsYflnId4tTWPx8es3uzsB1I8.jpg</td>\n",
              "      <td>[]</td>\n",
              "      <td>[{'iso_3166_1': 'IR', 'name': 'Iran'}]</td>\n",
              "      <td>NaN</td>\n",
              "      <td>0.0</td>\n",
              "      <td>90.0</td>\n",
              "      <td>[{'iso_639_1': 'fa', 'name': 'فارسی'}]</td>\n",
              "      <td>Released</td>\n",
              "      <td>Rising and falling between a man and woman</td>\n",
              "      <td>Subdue</td>\n",
              "      <td>False</td>\n",
              "      <td>4.0</td>\n",
              "      <td>1.0</td>\n",
              "    </tr>\n",
              "    <tr>\n",
              "      <th>45462</th>\n",
              "      <td>False</td>\n",
              "      <td>NaN</td>\n",
              "      <td>0</td>\n",
              "      <td>[{'id': 18, 'name': 'Drama'}]</td>\n",
              "      <td>NaN</td>\n",
              "      <td>111109</td>\n",
              "      <td>tt2028550</td>\n",
              "      <td>tl</td>\n",
              "      <td>Siglo ng Pagluluwal</td>\n",
              "      <td>An artist struggles to finish his work while a...</td>\n",
              "      <td>0.178241</td>\n",
              "      <td>/xZkmxsNmYXJbKVsTRLLx3pqGHx7.jpg</td>\n",
              "      <td>[{'name': 'Sine Olivia', 'id': 19653}]</td>\n",
              "      <td>[{'iso_3166_1': 'PH', 'name': 'Philippines'}]</td>\n",
              "      <td>2011-11-17</td>\n",
              "      <td>0.0</td>\n",
              "      <td>360.0</td>\n",
              "      <td>[{'iso_639_1': 'tl', 'name': ''}]</td>\n",
              "      <td>Released</td>\n",
              "      <td>NaN</td>\n",
              "      <td>Century of Birthing</td>\n",
              "      <td>False</td>\n",
              "      <td>9.0</td>\n",
              "      <td>3.0</td>\n",
              "    </tr>\n",
              "    <tr>\n",
              "      <th>45463</th>\n",
              "      <td>False</td>\n",
              "      <td>NaN</td>\n",
              "      <td>0</td>\n",
              "      <td>[{'id': 28, 'name': 'Action'}, {'id': 18, 'nam...</td>\n",
              "      <td>NaN</td>\n",
              "      <td>67758</td>\n",
              "      <td>tt0303758</td>\n",
              "      <td>en</td>\n",
              "      <td>Betrayal</td>\n",
              "      <td>When one of her hits goes wrong, a professiona...</td>\n",
              "      <td>0.903007</td>\n",
              "      <td>/d5bX92nDsISNhu3ZT69uHwmfCGw.jpg</td>\n",
              "      <td>[{'name': 'American World Pictures', 'id': 6165}]</td>\n",
              "      <td>[{'iso_3166_1': 'US', 'name': 'United States o...</td>\n",
              "      <td>2003-08-01</td>\n",
              "      <td>0.0</td>\n",
              "      <td>90.0</td>\n",
              "      <td>[{'iso_639_1': 'en', 'name': 'English'}]</td>\n",
              "      <td>Released</td>\n",
              "      <td>A deadly game of wits.</td>\n",
              "      <td>Betrayal</td>\n",
              "      <td>False</td>\n",
              "      <td>3.8</td>\n",
              "      <td>6.0</td>\n",
              "    </tr>\n",
              "    <tr>\n",
              "      <th>45464</th>\n",
              "      <td>False</td>\n",
              "      <td>NaN</td>\n",
              "      <td>0</td>\n",
              "      <td>[]</td>\n",
              "      <td>NaN</td>\n",
              "      <td>227506</td>\n",
              "      <td>tt0008536</td>\n",
              "      <td>en</td>\n",
              "      <td>Satana likuyushchiy</td>\n",
              "      <td>In a small town live two brothers, one a minis...</td>\n",
              "      <td>0.003503</td>\n",
              "      <td>/aorBPO7ak8e8iJKT5OcqYxU3jlK.jpg</td>\n",
              "      <td>[{'name': 'Yermoliev', 'id': 88753}]</td>\n",
              "      <td>[{'iso_3166_1': 'RU', 'name': 'Russia'}]</td>\n",
              "      <td>1917-10-21</td>\n",
              "      <td>0.0</td>\n",
              "      <td>87.0</td>\n",
              "      <td>[]</td>\n",
              "      <td>Released</td>\n",
              "      <td>NaN</td>\n",
              "      <td>Satan Triumphant</td>\n",
              "      <td>False</td>\n",
              "      <td>0.0</td>\n",
              "      <td>0.0</td>\n",
              "    </tr>\n",
              "    <tr>\n",
              "      <th>45465</th>\n",
              "      <td>False</td>\n",
              "      <td>NaN</td>\n",
              "      <td>0</td>\n",
              "      <td>[]</td>\n",
              "      <td>NaN</td>\n",
              "      <td>461257</td>\n",
              "      <td>tt6980792</td>\n",
              "      <td>en</td>\n",
              "      <td>Queerama</td>\n",
              "      <td>50 years after decriminalisation of homosexual...</td>\n",
              "      <td>0.163015</td>\n",
              "      <td>/s5UkZt6NTsrS7ZF0Rh8nzupRlIU.jpg</td>\n",
              "      <td>[]</td>\n",
              "      <td>[{'iso_3166_1': 'GB', 'name': 'United Kingdom'}]</td>\n",
              "      <td>2017-06-09</td>\n",
              "      <td>0.0</td>\n",
              "      <td>75.0</td>\n",
              "      <td>[{'iso_639_1': 'en', 'name': 'English'}]</td>\n",
              "      <td>Released</td>\n",
              "      <td>NaN</td>\n",
              "      <td>Queerama</td>\n",
              "      <td>False</td>\n",
              "      <td>0.0</td>\n",
              "      <td>0.0</td>\n",
              "    </tr>\n",
              "  </tbody>\n",
              "</table>\n",
              "</div>"
            ],
            "text/plain": [
              "       adult belongs_to_collection budget  ...  video vote_average vote_count\n",
              "45456  False                   NaN      0  ...  False          6.3        8.0\n",
              "45457  False                   NaN      0  ...  False          7.0        2.0\n",
              "45458  False                   NaN      0  ...  False          7.0        1.0\n",
              "45459  False                   NaN      0  ...  False          3.5        1.0\n",
              "45460  False                   NaN      0  ...  False          5.7       26.0\n",
              "45461  False                   NaN      0  ...  False          4.0        1.0\n",
              "45462  False                   NaN      0  ...  False          9.0        3.0\n",
              "45463  False                   NaN      0  ...  False          3.8        6.0\n",
              "45464  False                   NaN      0  ...  False          0.0        0.0\n",
              "45465  False                   NaN      0  ...  False          0.0        0.0\n",
              "\n",
              "[10 rows x 24 columns]"
            ]
          },
          "metadata": {
            "tags": []
          },
          "execution_count": 47
        }
      ]
    },
    {
      "cell_type": "code",
      "metadata": {
        "id": "M4zgjRf5pP61",
        "outputId": "6c52240e-fe04-4ffc-f027-68c45aa84f5d",
        "colab": {
          "base_uri": "https://localhost:8080/",
          "height": 662
        }
      },
      "source": [
        "#RESULTS OF SIMPLE RECOMMENDER SYSTEM \n",
        "#sorting the topq_movies in descending order of their 'wr_score'\n",
        "\n",
        "topq_movies= topq_movies.sort_values('wr_score', ascending=False)\n",
        "topq_movies[['title','vote_count','vote_average','wr_score']].head(20)"
      ],
      "execution_count": null,
      "outputs": [
        {
          "output_type": "execute_result",
          "data": {
            "text/html": [
              "<div>\n",
              "<style scoped>\n",
              "    .dataframe tbody tr th:only-of-type {\n",
              "        vertical-align: middle;\n",
              "    }\n",
              "\n",
              "    .dataframe tbody tr th {\n",
              "        vertical-align: top;\n",
              "    }\n",
              "\n",
              "    .dataframe thead th {\n",
              "        text-align: right;\n",
              "    }\n",
              "</style>\n",
              "<table border=\"1\" class=\"dataframe\">\n",
              "  <thead>\n",
              "    <tr style=\"text-align: right;\">\n",
              "      <th></th>\n",
              "      <th>title</th>\n",
              "      <th>vote_count</th>\n",
              "      <th>vote_average</th>\n",
              "      <th>wr_score</th>\n",
              "    </tr>\n",
              "  </thead>\n",
              "  <tbody>\n",
              "    <tr>\n",
              "      <th>10397</th>\n",
              "      <td>Dilwale Dulhania Le Jayenge</td>\n",
              "      <td>661.0</td>\n",
              "      <td>9.1</td>\n",
              "      <td>2305.453949</td>\n",
              "    </tr>\n",
              "    <tr>\n",
              "      <th>40253</th>\n",
              "      <td>Planet Earth</td>\n",
              "      <td>176.0</td>\n",
              "      <td>8.8</td>\n",
              "      <td>2262.003579</td>\n",
              "    </tr>\n",
              "    <tr>\n",
              "      <th>41418</th>\n",
              "      <td>Your Name.</td>\n",
              "      <td>1030.0</td>\n",
              "      <td>8.5</td>\n",
              "      <td>2210.779479</td>\n",
              "    </tr>\n",
              "    <tr>\n",
              "      <th>841</th>\n",
              "      <td>The Godfather</td>\n",
              "      <td>6024.0</td>\n",
              "      <td>8.5</td>\n",
              "      <td>2210.074871</td>\n",
              "    </tr>\n",
              "    <tr>\n",
              "      <th>314</th>\n",
              "      <td>The Shawshank Redemption</td>\n",
              "      <td>8358.0</td>\n",
              "      <td>8.5</td>\n",
              "      <td>2210.034289</td>\n",
              "    </tr>\n",
              "    <tr>\n",
              "      <th>45842</th>\n",
              "      <td>Black Mirror: White Christmas</td>\n",
              "      <td>211.0</td>\n",
              "      <td>8.3</td>\n",
              "      <td>2182.678502</td>\n",
              "    </tr>\n",
              "    <tr>\n",
              "      <th>1205</th>\n",
              "      <td>Once Upon a Time in America</td>\n",
              "      <td>1104.0</td>\n",
              "      <td>8.3</td>\n",
              "      <td>2179.322509</td>\n",
              "    </tr>\n",
              "    <tr>\n",
              "      <th>1197</th>\n",
              "      <td>Psycho</td>\n",
              "      <td>2405.0</td>\n",
              "      <td>8.3</td>\n",
              "      <td>2178.893551</td>\n",
              "    </tr>\n",
              "    <tr>\n",
              "      <th>1173</th>\n",
              "      <td>One Flew Over the Cuckoo's Nest</td>\n",
              "      <td>3001.0</td>\n",
              "      <td>8.3</td>\n",
              "      <td>2178.821260</td>\n",
              "    </tr>\n",
              "    <tr>\n",
              "      <th>1199</th>\n",
              "      <td>The Godfather: Part II</td>\n",
              "      <td>3418.0</td>\n",
              "      <td>8.3</td>\n",
              "      <td>2178.785670</td>\n",
              "    </tr>\n",
              "    <tr>\n",
              "      <th>2231</th>\n",
              "      <td>Life Is Beautiful</td>\n",
              "      <td>3643.0</td>\n",
              "      <td>8.3</td>\n",
              "      <td>2178.769852</td>\n",
              "    </tr>\n",
              "    <tr>\n",
              "      <th>5529</th>\n",
              "      <td>Spirited Away</td>\n",
              "      <td>3968.0</td>\n",
              "      <td>8.3</td>\n",
              "      <td>2178.750169</td>\n",
              "    </tr>\n",
              "    <tr>\n",
              "      <th>23868</th>\n",
              "      <td>Whiplash</td>\n",
              "      <td>4376.0</td>\n",
              "      <td>8.3</td>\n",
              "      <td>2178.729599</td>\n",
              "    </tr>\n",
              "    <tr>\n",
              "      <th>522</th>\n",
              "      <td>Schindler's List</td>\n",
              "      <td>4436.0</td>\n",
              "      <td>8.3</td>\n",
              "      <td>2178.726894</td>\n",
              "    </tr>\n",
              "    <tr>\n",
              "      <th>292</th>\n",
              "      <td>Pulp Fiction</td>\n",
              "      <td>8670.0</td>\n",
              "      <td>8.3</td>\n",
              "      <td>2178.630519</td>\n",
              "    </tr>\n",
              "    <tr>\n",
              "      <th>2870</th>\n",
              "      <td>Fight Club</td>\n",
              "      <td>9678.0</td>\n",
              "      <td>8.3</td>\n",
              "      <td>2178.620003</td>\n",
              "    </tr>\n",
              "    <tr>\n",
              "      <th>12589</th>\n",
              "      <td>The Dark Knight</td>\n",
              "      <td>12269.0</td>\n",
              "      <td>8.3</td>\n",
              "      <td>2178.600900</td>\n",
              "    </tr>\n",
              "    <tr>\n",
              "      <th>6902</th>\n",
              "      <td>The Passion of Joan of Arc</td>\n",
              "      <td>159.0</td>\n",
              "      <td>8.2</td>\n",
              "      <td>2168.335393</td>\n",
              "    </tr>\n",
              "    <tr>\n",
              "      <th>6563</th>\n",
              "      <td>Tokyo Story</td>\n",
              "      <td>190.0</td>\n",
              "      <td>8.2</td>\n",
              "      <td>2167.437071</td>\n",
              "    </tr>\n",
              "    <tr>\n",
              "      <th>3216</th>\n",
              "      <td>City Lights</td>\n",
              "      <td>444.0</td>\n",
              "      <td>8.2</td>\n",
              "      <td>2164.801235</td>\n",
              "    </tr>\n",
              "  </tbody>\n",
              "</table>\n",
              "</div>"
            ],
            "text/plain": [
              "                                 title  vote_count  vote_average     wr_score\n",
              "10397      Dilwale Dulhania Le Jayenge       661.0           9.1  2305.453949\n",
              "40253                     Planet Earth       176.0           8.8  2262.003579\n",
              "41418                       Your Name.      1030.0           8.5  2210.779479\n",
              "841                      The Godfather      6024.0           8.5  2210.074871\n",
              "314           The Shawshank Redemption      8358.0           8.5  2210.034289\n",
              "45842    Black Mirror: White Christmas       211.0           8.3  2182.678502\n",
              "1205       Once Upon a Time in America      1104.0           8.3  2179.322509\n",
              "1197                            Psycho      2405.0           8.3  2178.893551\n",
              "1173   One Flew Over the Cuckoo's Nest      3001.0           8.3  2178.821260\n",
              "1199            The Godfather: Part II      3418.0           8.3  2178.785670\n",
              "2231                 Life Is Beautiful      3643.0           8.3  2178.769852\n",
              "5529                     Spirited Away      3968.0           8.3  2178.750169\n",
              "23868                         Whiplash      4376.0           8.3  2178.729599\n",
              "522                   Schindler's List      4436.0           8.3  2178.726894\n",
              "292                       Pulp Fiction      8670.0           8.3  2178.630519\n",
              "2870                        Fight Club      9678.0           8.3  2178.620003\n",
              "12589                  The Dark Knight     12269.0           8.3  2178.600900\n",
              "6902        The Passion of Joan of Arc       159.0           8.2  2168.335393\n",
              "6563                       Tokyo Story       190.0           8.2  2167.437071\n",
              "3216                       City Lights       444.0           8.2  2164.801235"
            ]
          },
          "metadata": {
            "tags": []
          },
          "execution_count": 48
        }
      ]
    },
    {
      "cell_type": "markdown",
      "metadata": {
        "id": "slMgAHjCfekj"
      },
      "source": [
        "#2. Content Based Recommender System\n",
        "\n",
        "-> It suggests similar items based on a particular item. This system makes use of metadata such as genre, director, description, actor, etc. \n",
        "\n",
        "-> Idea is, if a person likes a particular item, he or she will also like an item which is similar to it.\n",
        "\n",
        "`a.) Content Based Movie Recommender Using Movie Overviews`"
      ]
    },
    {
      "cell_type": "code",
      "metadata": {
        "id": "ClDXliVa0Wwr",
        "outputId": "7b3b5c12-0b6f-4b9b-85a0-fce11d6e5cc3",
        "colab": {
          "base_uri": "https://localhost:8080/",
          "height": 208
        }
      },
      "source": [
        "movies_metadata['overview'].head(10)"
      ],
      "execution_count": null,
      "outputs": [
        {
          "output_type": "execute_result",
          "data": {
            "text/plain": [
              "0    Led by Woody, Andy's toys live happily in his ...\n",
              "1    When siblings Judy and Peter discover an encha...\n",
              "2    A family wedding reignites the ancient feud be...\n",
              "3    Cheated on, mistreated and stepped on, the wom...\n",
              "4    Just when George Banks has recovered from his ...\n",
              "5    Obsessive master thief, Neil McCauley leads a ...\n",
              "6    An ugly duckling having undergone a remarkable...\n",
              "7    A mischievous young boy, Tom Sawyer, witnesses...\n",
              "8    International action superstar Jean Claude Van...\n",
              "9    James Bond must unmask the mysterious head of ...\n",
              "Name: overview, dtype: object"
            ]
          },
          "metadata": {
            "tags": []
          },
          "execution_count": 49
        }
      ]
    },
    {
      "cell_type": "code",
      "metadata": {
        "id": "IUAJZ40p0hMc"
      },
      "source": [
        "from sklearn.feature_extraction.text import TfidfVectorizer"
      ],
      "execution_count": null,
      "outputs": []
    },
    {
      "cell_type": "code",
      "metadata": {
        "id": "eU92l42B2Imi",
        "outputId": "a8ddd4dd-fdec-45c3-dd95-a1e7398ccd0b",
        "colab": {
          "base_uri": "https://localhost:8080/",
          "height": 52
        }
      },
      "source": [
        "tfidf = TfidfVectorizer(stop_words='english')\n",
        "\n",
        "movies_metadata['overview'] = movies_metadata['overview'].fillna('')\n",
        "\n",
        "tfidf_matrix = tfidf.fit_transform(movies_metadata['overview'])\n",
        "\n",
        "tfidf_matrix\n"
      ],
      "execution_count": null,
      "outputs": [
        {
          "output_type": "execute_result",
          "data": {
            "text/plain": [
              "<45466x75827 sparse matrix of type '<class 'numpy.float64'>'\n",
              "\twith 1210882 stored elements in Compressed Sparse Row format>"
            ]
          },
          "metadata": {
            "tags": []
          },
          "execution_count": 51
        }
      ]
    },
    {
      "cell_type": "code",
      "metadata": {
        "id": "WbDGph6662n2",
        "outputId": "9bffbc40-0817-4b98-b3df-51806f49acc3",
        "colab": {
          "base_uri": "https://localhost:8080/",
          "height": 35
        }
      },
      "source": [
        "tfidf_matrix.shape"
      ],
      "execution_count": null,
      "outputs": [
        {
          "output_type": "execute_result",
          "data": {
            "text/plain": [
              "(45466, 75827)"
            ]
          },
          "metadata": {
            "tags": []
          },
          "execution_count": 52
        }
      ]
    },
    {
      "cell_type": "code",
      "metadata": {
        "id": "kBNxaKwq7BRR",
        "outputId": "190aaed8-9790-47bd-ed8d-a6df0974db8b",
        "colab": {
          "base_uri": "https://localhost:8080/",
          "height": 884
        }
      },
      "source": [
        "tfidf.get_feature_names()[5000:5050]"
      ],
      "execution_count": null,
      "outputs": [
        {
          "output_type": "execute_result",
          "data": {
            "text/plain": [
              "['avails',\n",
              " 'avaks',\n",
              " 'avalanche',\n",
              " 'avalanches',\n",
              " 'avallone',\n",
              " 'avalon',\n",
              " 'avant',\n",
              " 'avanthika',\n",
              " 'avanti',\n",
              " 'avaracious',\n",
              " 'avarice',\n",
              " 'avaricious',\n",
              " 'avatar',\n",
              " 'avatars',\n",
              " 'avati',\n",
              " 'avdhoot',\n",
              " 'ave',\n",
              " 'avec',\n",
              " 'avedon',\n",
              " 'aveleda',\n",
              " 'avenge',\n",
              " 'avenged',\n",
              " 'avenger',\n",
              " 'avengers',\n",
              " 'avenges',\n",
              " 'avenging',\n",
              " 'avenue',\n",
              " 'avenues',\n",
              " 'average',\n",
              " 'averaged',\n",
              " 'averaging',\n",
              " 'averback',\n",
              " 'avere',\n",
              " 'averell',\n",
              " 'averill',\n",
              " 'averroes',\n",
              " 'averse',\n",
              " 'aversion',\n",
              " 'avert',\n",
              " 'averted',\n",
              " 'averting',\n",
              " 'averts',\n",
              " 'avery',\n",
              " 'avetik',\n",
              " 'avett',\n",
              " 'aveugle',\n",
              " 'aveyron',\n",
              " 'avgående',\n",
              " 'avi',\n",
              " 'avian']"
            ]
          },
          "metadata": {
            "tags": []
          },
          "execution_count": 53
        }
      ]
    },
    {
      "cell_type": "code",
      "metadata": {
        "id": "YYCUlwGy7Pap"
      },
      "source": [
        "# Now, we need to calculate the similarity score on the basis of tfidf matrix created using the overview column field of movies_metadata\n",
        "# Here, we are using the linear_kernel function of sklearn which carries out vectorized cosine_similarity \n",
        "\n",
        "from sklearn.metrics.pairwise import linear_kernel"
      ],
      "execution_count": null,
      "outputs": []
    },
    {
      "cell_type": "code",
      "metadata": {
        "id": "7RnXZeT3ZC0R"
      },
      "source": [
        "#NOTE : The below line is the reason why the recommender will not be able to recommend movies for indices greater than 100 as the colan crashes and all the output gets flushed and runtime is started again.\n",
        "cosine_similarities = linear_kernel(tfidf_matrix[0:100],tfidf_matrix)"
      ],
      "execution_count": null,
      "outputs": []
    },
    {
      "cell_type": "code",
      "metadata": {
        "id": "A14TPQEvbSkc",
        "outputId": "6d32822f-cc83-4c3c-8be6-1a97d8845933",
        "colab": {
          "base_uri": "https://localhost:8080/",
          "height": 52
        }
      },
      "source": [
        "cosine_similarities[0]"
      ],
      "execution_count": null,
      "outputs": [
        {
          "output_type": "execute_result",
          "data": {
            "text/plain": [
              "array([1.        , 0.01504121, 0.        , ..., 0.        , 0.00595453,\n",
              "       0.        ])"
            ]
          },
          "metadata": {
            "tags": []
          },
          "execution_count": 56
        }
      ]
    },
    {
      "cell_type": "code",
      "metadata": {
        "id": "-mwC17d3doT7"
      },
      "source": [
        "indices = pd.Series(movies_metadata.index, index=movies_metadata['title']).drop_duplicates()"
      ],
      "execution_count": null,
      "outputs": []
    },
    {
      "cell_type": "code",
      "metadata": {
        "id": "jMO0ApnYd669",
        "outputId": "ccb85d9e-c84f-4009-c3a1-3429e35a0a19",
        "colab": {
          "base_uri": "https://localhost:8080/",
          "height": 243
        }
      },
      "source": [
        "indices[:100]"
      ],
      "execution_count": null,
      "outputs": [
        {
          "output_type": "execute_result",
          "data": {
            "text/plain": [
              "title\n",
              "Toy Story                         0\n",
              "Jumanji                           1\n",
              "Grumpier Old Men                  2\n",
              "Waiting to Exhale                 3\n",
              "Father of the Bride Part II       4\n",
              "                                 ..\n",
              "La Haine                         95\n",
              "Shopping                         96\n",
              "Heidi Fleiss: Hollywood Madam    97\n",
              "City Hall                        98\n",
              "Bottle Rocket                    99\n",
              "Length: 100, dtype: int64"
            ]
          },
          "metadata": {
            "tags": []
          },
          "execution_count": 58
        }
      ]
    },
    {
      "cell_type": "code",
      "metadata": {
        "id": "l_ibvYn0e94m"
      },
      "source": [
        "def suggest_me_movies(title, cosine_similarities=cosine_similarities):\n",
        "  # It finds the index of the movie title which you will enter\n",
        "  index = indices[title] \n",
        "\n",
        "  # Get the similarity score of all the movies with your movie\n",
        "  similarity_scores = list(enumerate(cosine_similarities[index]))\n",
        "\n",
        "  # Sorting the movies based on similarity scores in descending order\n",
        "  similarity_scores = sorted(similarity_scores,key = lambda x:x[1], reverse=True )\n",
        "\n",
        "  # Get the scores of the top 10 similar movies to your movie\n",
        "  similarity_scores = similarity_scores[1:11]\n",
        "\n",
        "  # Get the indices of the movies with highest similarities\n",
        "  movie_indices = [i[0] for i in similarity_scores]\n",
        "\n",
        "  return movies_metadata['title'].iloc[movie_indices]\n"
      ],
      "execution_count": null,
      "outputs": []
    },
    {
      "cell_type": "code",
      "metadata": {
        "id": "V-MDVjDFh_61",
        "outputId": "8e1bf2c1-41d0-4cf2-dc56-e2568a8663ac",
        "colab": {
          "base_uri": "https://localhost:8080/",
          "height": 35
        }
      },
      "source": [
        "indices['Jumanji']"
      ],
      "execution_count": null,
      "outputs": [
        {
          "output_type": "execute_result",
          "data": {
            "text/plain": [
              "1"
            ]
          },
          "metadata": {
            "tags": []
          },
          "execution_count": 60
        }
      ]
    },
    {
      "cell_type": "code",
      "metadata": {
        "id": "bMDQQclNlN71",
        "outputId": "4d4a3f41-c543-4cfd-e7c4-7372d4dafb04",
        "colab": {
          "base_uri": "https://localhost:8080/",
          "height": 208
        }
      },
      "source": [
        "suggest_me_movies('Jumanji')"
      ],
      "execution_count": null,
      "outputs": [
        {
          "output_type": "execute_result",
          "data": {
            "text/plain": [
              "21633         Table No. 21\n",
              "45253                 Quiz\n",
              "41573         Snowed Under\n",
              "35509             The Mend\n",
              "44376    Liar Game: Reborn\n",
              "17223       The Dark Angel\n",
              "8801               Quintet\n",
              "6166             Brainscan\n",
              "30981         Turkey Shoot\n",
              "9503             Word Wars\n",
              "Name: title, dtype: object"
            ]
          },
          "metadata": {
            "tags": []
          },
          "execution_count": 61
        }
      ]
    },
    {
      "cell_type": "markdown",
      "metadata": {
        "id": "RNhf9ujhUoKZ"
      },
      "source": [
        "#b.) Content Based Recommender Using Actors, Directors, Keywords and Genres"
      ]
    },
    {
      "cell_type": "markdown",
      "metadata": {
        "id": "1kqwj1ZIV4Lz"
      },
      "source": [
        "For this we need to merge keywords, metadata and credits. But we have already done that and all the merged data is under merge_df12"
      ]
    },
    {
      "cell_type": "code",
      "metadata": {
        "id": "BHUynLzQVSMV",
        "outputId": "a6cf18ad-ee3c-4547-be27-5022c66e669f",
        "colab": {
          "base_uri": "https://localhost:8080/",
          "height": 169
        }
      },
      "source": [
        "merge_df12.head(1)"
      ],
      "execution_count": null,
      "outputs": [
        {
          "output_type": "execute_result",
          "data": {
            "text/html": [
              "<div>\n",
              "<style scoped>\n",
              "    .dataframe tbody tr th:only-of-type {\n",
              "        vertical-align: middle;\n",
              "    }\n",
              "\n",
              "    .dataframe tbody tr th {\n",
              "        vertical-align: top;\n",
              "    }\n",
              "\n",
              "    .dataframe thead th {\n",
              "        text-align: right;\n",
              "    }\n",
              "</style>\n",
              "<table border=\"1\" class=\"dataframe\">\n",
              "  <thead>\n",
              "    <tr style=\"text-align: right;\">\n",
              "      <th></th>\n",
              "      <th>adult</th>\n",
              "      <th>belongs_to_collection</th>\n",
              "      <th>genres</th>\n",
              "      <th>id</th>\n",
              "      <th>imdb_id</th>\n",
              "      <th>original_language</th>\n",
              "      <th>popularity</th>\n",
              "      <th>release_date</th>\n",
              "      <th>runtime</th>\n",
              "      <th>title</th>\n",
              "      <th>vote_average</th>\n",
              "      <th>vote_count</th>\n",
              "      <th>keywords</th>\n",
              "      <th>cast</th>\n",
              "      <th>crew</th>\n",
              "    </tr>\n",
              "  </thead>\n",
              "  <tbody>\n",
              "    <tr>\n",
              "      <th>0</th>\n",
              "      <td>False</td>\n",
              "      <td>{'id': 10194, 'name': 'Toy Story Collection', ...</td>\n",
              "      <td>[{'id': 16, 'name': 'Animation'}, {'id': 35, '...</td>\n",
              "      <td>862</td>\n",
              "      <td>tt0114709</td>\n",
              "      <td>en</td>\n",
              "      <td>21.9469</td>\n",
              "      <td>1995-10-30</td>\n",
              "      <td>81.0</td>\n",
              "      <td>Toy Story</td>\n",
              "      <td>7.7</td>\n",
              "      <td>5415.0</td>\n",
              "      <td>[{'id': 931, 'name': 'jealousy'}, {'id': 4290,...</td>\n",
              "      <td>[{'cast_id': 14, 'character': 'Woody (voice)',...</td>\n",
              "      <td>[{'credit_id': '52fe4284c3a36847f8024f49', 'de...</td>\n",
              "    </tr>\n",
              "  </tbody>\n",
              "</table>\n",
              "</div>"
            ],
            "text/plain": [
              "   adult  ...                                               crew\n",
              "0  False  ...  [{'credit_id': '52fe4284c3a36847f8024f49', 'de...\n",
              "\n",
              "[1 rows x 15 columns]"
            ]
          },
          "metadata": {
            "tags": []
          },
          "execution_count": 62
        }
      ]
    },
    {
      "cell_type": "markdown",
      "metadata": {
        "id": "kMKWuk7oWKCV"
      },
      "source": [
        "As the cast, crew and keywords are all stringified inside a list hence we need to first de-stringify them."
      ]
    },
    {
      "cell_type": "code",
      "metadata": {
        "id": "RRZy_Q_eWDbw"
      },
      "source": [
        "from ast import literal_eval\n",
        "\n",
        "features = ['cast','crew','keywords','genres']\n",
        "for feature in features:\n",
        "  merge_df12[feature] = merge_df12[feature].apply(literal_eval)"
      ],
      "execution_count": null,
      "outputs": []
    },
    {
      "cell_type": "code",
      "metadata": {
        "id": "gXzBNZQPXn82"
      },
      "source": [
        "def get_director(x):\n",
        "  for i in x:\n",
        "    if i['job']=='Director':\n",
        "      return i['name']\n",
        "\n",
        "  return np.nan\n",
        "\n",
        "def get_list(x):\n",
        "  if isinstance(x,list):\n",
        "    names = [i['name'] for i in x]\n",
        "    #Check if more than 3 elements exist. If yes, return only first three. If no, return entire list.\n",
        "    if len(names) > 1:\n",
        "      names = names[:3]\n",
        "      return names\n",
        "\n",
        "\n",
        "  # else return empty list in case of missing data\n",
        "  return []"
      ],
      "execution_count": null,
      "outputs": []
    },
    {
      "cell_type": "code",
      "metadata": {
        "id": "OUNSVhiYXz9f"
      },
      "source": [
        "merge_df12['director'] = merge_df12['crew'].apply(get_director)\n",
        "\n",
        "features = ['cast','keywords','genres']\n",
        "for feature in features:\n",
        "  merge_df12[feature] = merge_df12[feature].apply(get_list)"
      ],
      "execution_count": null,
      "outputs": []
    },
    {
      "cell_type": "code",
      "metadata": {
        "id": "0_kUWBONZ9kc",
        "outputId": "cb4991aa-32be-4cda-d87d-328ecaaf3e1b",
        "colab": {
          "base_uri": "https://localhost:8080/",
          "height": 202
        }
      },
      "source": [
        "merge_df12[['title','cast','director','keywords','genres']].head(5)"
      ],
      "execution_count": null,
      "outputs": [
        {
          "output_type": "execute_result",
          "data": {
            "text/html": [
              "<div>\n",
              "<style scoped>\n",
              "    .dataframe tbody tr th:only-of-type {\n",
              "        vertical-align: middle;\n",
              "    }\n",
              "\n",
              "    .dataframe tbody tr th {\n",
              "        vertical-align: top;\n",
              "    }\n",
              "\n",
              "    .dataframe thead th {\n",
              "        text-align: right;\n",
              "    }\n",
              "</style>\n",
              "<table border=\"1\" class=\"dataframe\">\n",
              "  <thead>\n",
              "    <tr style=\"text-align: right;\">\n",
              "      <th></th>\n",
              "      <th>title</th>\n",
              "      <th>cast</th>\n",
              "      <th>director</th>\n",
              "      <th>keywords</th>\n",
              "      <th>genres</th>\n",
              "    </tr>\n",
              "  </thead>\n",
              "  <tbody>\n",
              "    <tr>\n",
              "      <th>0</th>\n",
              "      <td>Toy Story</td>\n",
              "      <td>[Tom Hanks, Tim Allen, Don Rickles]</td>\n",
              "      <td>John Lasseter</td>\n",
              "      <td>[jealousy, toy, boy]</td>\n",
              "      <td>[Animation, Comedy, Family]</td>\n",
              "    </tr>\n",
              "    <tr>\n",
              "      <th>1</th>\n",
              "      <td>Jumanji</td>\n",
              "      <td>[Robin Williams, Jonathan Hyde, Kirsten Dunst]</td>\n",
              "      <td>Joe Johnston</td>\n",
              "      <td>[board game, disappearance, based on children'...</td>\n",
              "      <td>[Adventure, Fantasy, Family]</td>\n",
              "    </tr>\n",
              "    <tr>\n",
              "      <th>2</th>\n",
              "      <td>Grumpier Old Men</td>\n",
              "      <td>[Walter Matthau, Jack Lemmon, Ann-Margret]</td>\n",
              "      <td>Howard Deutch</td>\n",
              "      <td>[fishing, best friend, duringcreditsstinger]</td>\n",
              "      <td>[Romance, Comedy]</td>\n",
              "    </tr>\n",
              "    <tr>\n",
              "      <th>3</th>\n",
              "      <td>Waiting to Exhale</td>\n",
              "      <td>[Whitney Houston, Angela Bassett, Loretta Devine]</td>\n",
              "      <td>Forest Whitaker</td>\n",
              "      <td>[based on novel, interracial relationship, sin...</td>\n",
              "      <td>[Comedy, Drama, Romance]</td>\n",
              "    </tr>\n",
              "    <tr>\n",
              "      <th>4</th>\n",
              "      <td>Father of the Bride Part II</td>\n",
              "      <td>[Steve Martin, Diane Keaton, Martin Short]</td>\n",
              "      <td>Charles Shyer</td>\n",
              "      <td>[baby, midlife crisis, confidence]</td>\n",
              "      <td>[]</td>\n",
              "    </tr>\n",
              "  </tbody>\n",
              "</table>\n",
              "</div>"
            ],
            "text/plain": [
              "                         title  ...                        genres\n",
              "0                    Toy Story  ...   [Animation, Comedy, Family]\n",
              "1                      Jumanji  ...  [Adventure, Fantasy, Family]\n",
              "2             Grumpier Old Men  ...             [Romance, Comedy]\n",
              "3            Waiting to Exhale  ...      [Comedy, Drama, Romance]\n",
              "4  Father of the Bride Part II  ...                            []\n",
              "\n",
              "[5 rows x 5 columns]"
            ]
          },
          "metadata": {
            "tags": []
          },
          "execution_count": 66
        }
      ]
    },
    {
      "cell_type": "code",
      "metadata": {
        "id": "V0sW31CnagQ7"
      },
      "source": [
        "# Function to convert all strings to lower cases and strip names of spaces\n",
        "\n",
        "def clean_data(x):\n",
        "  if isinstance(x,list):\n",
        "    return [str.lower(i.replace(\" \",\"\")) for i in x]\n",
        "  else:\n",
        "    if isinstance(x,str):\n",
        "      return str.lower(x.replace(\" \",\"\"))\n",
        "    else:\n",
        "      return ''"
      ],
      "execution_count": null,
      "outputs": []
    },
    {
      "cell_type": "code",
      "metadata": {
        "id": "ET0n7i5Tc6Xd"
      },
      "source": [
        "feature = ['cast','keywords','director','genres']\n",
        "\n",
        "for feature in features:\n",
        "  merge_df12[feature] = merge_df12[feature].apply(clean_data)"
      ],
      "execution_count": null,
      "outputs": []
    },
    {
      "cell_type": "markdown",
      "metadata": {
        "id": "Js4eEaNDA9Yl"
      },
      "source": [
        "\n",
        "Here for data preprocessing we are at the last step where we will be making a matrix which will have all the features combined in one record separated by space (actors director keywords)"
      ]
    },
    {
      "cell_type": "code",
      "metadata": {
        "id": "Bna6LEI-ADuC"
      },
      "source": [
        "def create_a_blend(x):\n",
        "  return ' '.join(x['keywords'])+' '+' '.join(x['cast'])+' '+ str(x['director'])+' '+' '.join(x['genres'])\n"
      ],
      "execution_count": null,
      "outputs": []
    },
    {
      "cell_type": "code",
      "metadata": {
        "id": "MWh9PrQBAGZG"
      },
      "source": [
        "merge_df12['blend_of_features'] = merge_df12.apply(create_a_blend, axis=1)"
      ],
      "execution_count": null,
      "outputs": []
    },
    {
      "cell_type": "code",
      "metadata": {
        "id": "0xfKXMsnB_eS",
        "outputId": "562cf16b-e83a-4aaa-a6c0-2900c38f72d2",
        "colab": {
          "base_uri": "https://localhost:8080/",
          "height": 110
        }
      },
      "source": [
        "merge_df12[['blend_of_features']].head(2)"
      ],
      "execution_count": null,
      "outputs": [
        {
          "output_type": "execute_result",
          "data": {
            "text/html": [
              "<div>\n",
              "<style scoped>\n",
              "    .dataframe tbody tr th:only-of-type {\n",
              "        vertical-align: middle;\n",
              "    }\n",
              "\n",
              "    .dataframe tbody tr th {\n",
              "        vertical-align: top;\n",
              "    }\n",
              "\n",
              "    .dataframe thead th {\n",
              "        text-align: right;\n",
              "    }\n",
              "</style>\n",
              "<table border=\"1\" class=\"dataframe\">\n",
              "  <thead>\n",
              "    <tr style=\"text-align: right;\">\n",
              "      <th></th>\n",
              "      <th>blend_of_features</th>\n",
              "    </tr>\n",
              "  </thead>\n",
              "  <tbody>\n",
              "    <tr>\n",
              "      <th>0</th>\n",
              "      <td>jealousy toy boy tomhanks timallen donrickles ...</td>\n",
              "    </tr>\n",
              "    <tr>\n",
              "      <th>1</th>\n",
              "      <td>boardgame disappearance basedonchildren'sbook ...</td>\n",
              "    </tr>\n",
              "  </tbody>\n",
              "</table>\n",
              "</div>"
            ],
            "text/plain": [
              "                                   blend_of_features\n",
              "0  jealousy toy boy tomhanks timallen donrickles ...\n",
              "1  boardgame disappearance basedonchildren'sbook ..."
            ]
          },
          "metadata": {
            "tags": []
          },
          "execution_count": 71
        }
      ]
    },
    {
      "cell_type": "markdown",
      "metadata": {
        "id": "2XAPylPUDtjc"
      },
      "source": [
        "-> `Now next step is to create an object of count vectorizer which we are using instead of TF-IDf` \n",
        "\n",
        "-> In order to prevent the down-weighting of actors or directors if they have acted in more number of movies.\n",
        "\n",
        "-> Major difference between countVectorizer and TF-IDF is that CountVectorizer don't have IDF component.\n",
        "\n"
      ]
    },
    {
      "cell_type": "code",
      "metadata": {
        "id": "VELykkKZC3WQ"
      },
      "source": [
        "from sklearn.feature_extraction.text import CountVectorizer\n",
        "\n",
        "count = CountVectorizer(stop_words='english')\n",
        "count_matrix = count.fit_transform(merge_df12['blend_of_features'])"
      ],
      "execution_count": null,
      "outputs": []
    },
    {
      "cell_type": "code",
      "metadata": {
        "id": "qVHnRatRExBr",
        "outputId": "d261f97f-fa96-4264-b9b9-a302d964c7c7",
        "colab": {
          "base_uri": "https://localhost:8080/",
          "height": 35
        }
      },
      "source": [
        "count_matrix.shape"
      ],
      "execution_count": null,
      "outputs": [
        {
          "output_type": "execute_result",
          "data": {
            "text/plain": [
              "(46628, 72797)"
            ]
          },
          "metadata": {
            "tags": []
          },
          "execution_count": 73
        }
      ]
    },
    {
      "cell_type": "code",
      "metadata": {
        "id": "2gq0zTMzFEiZ"
      },
      "source": [
        "from sklearn.metrics.pairwise import cosine_similarity\n",
        "\n",
        "cosine_similarities2 = cosine_similarity(count_matrix[:1000], count_matrix)"
      ],
      "execution_count": null,
      "outputs": []
    },
    {
      "cell_type": "code",
      "metadata": {
        "id": "0p6_KXODF1l3"
      },
      "source": [
        "merge_df12 = merge_df12.reset_index()\n",
        "\n",
        "indices = pd.Series(merge_df12.index, index=merge_df12['title'])"
      ],
      "execution_count": null,
      "outputs": []
    },
    {
      "cell_type": "code",
      "metadata": {
        "id": "VscHN954GnQT",
        "outputId": "2a0a206b-1436-44c0-ad45-923f5a07d5a6",
        "colab": {
          "base_uri": "https://localhost:8080/",
          "height": 208
        }
      },
      "source": [
        "suggest_me_movies('Toy Story',cosine_similarities2)"
      ],
      "execution_count": null,
      "outputs": [
        {
          "output_type": "execute_result",
          "data": {
            "text/plain": [
              "3024                                         The Two Jakes\n",
              "15519                                        Winnebago Man\n",
              "26001                                       Tactical Force\n",
              "17551                                       The Yellow Sea\n",
              "22126    Les Misérables: 10th Anniversary Concert at th...\n",
              "25999                               Tad, the Lost Explorer\n",
              "29198                              Seven Minutes in Heaven\n",
              "27606                     The Sex and Violence Family Hour\n",
              "19301                                              Beloved\n",
              "19355                                            6 Bullets\n",
              "Name: title, dtype: object"
            ]
          },
          "metadata": {
            "tags": []
          },
          "execution_count": 77
        }
      ]
    },
    {
      "cell_type": "code",
      "metadata": {
        "id": "RLWn_yvxG10n"
      },
      "source": [
        "####### NOTE :  LIMITATIONS OF THIS RECOMMENDER \n",
        "'''\n",
        "IT STARTS CRASHING IF WE FEED IT more than a particular amount of movies i.e it works well for no. of movies under 1000 or 2000\n",
        "'''"
      ],
      "execution_count": null,
      "outputs": []
    }
  ]
}